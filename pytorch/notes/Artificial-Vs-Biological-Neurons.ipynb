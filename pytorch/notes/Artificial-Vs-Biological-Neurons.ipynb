{
 "cells": [
  {
   "cell_type": "markdown",
   "metadata": {},
   "source": [
    "# Are artificial \"Neurons\" like biological neurons?\n",
    "This document will cover:\n",
    "- About actual neurons\n",
    "- That \"Artificial Neurons\" are nothing like real neurons\n",
    "- How continuing this marketing scam is an insult to neuroscience and to life itself"
   ]
  }
 ],
 "metadata": {
  "language_info": {
   "name": "python"
  }
 },
 "nbformat": 4,
 "nbformat_minor": 2
}
