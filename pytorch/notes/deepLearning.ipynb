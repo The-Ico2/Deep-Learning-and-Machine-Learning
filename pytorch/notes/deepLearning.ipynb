{
 "cells": [
  {
   "cell_type": "markdown",
   "metadata": {},
   "source": [
    "# Role of Deep Learning in Science and Knowledge\n",
    "This document will cover:\n",
    "- What Intelligence actually is\n",
    "- What it means to trust a Deep Learning Network\n",
    "- Intorduction to the \"Universal Approximation Theorem\"\n",
    "- A bit of what causes consciousness in biology and computers"
   ]
  },
  {
   "cell_type": "markdown",
   "metadata": {},
   "source": [
    "### What is intelligence and do computers have it?\n",
    "- Intelligence does NOT have a true definition as humans still dont know what causes intelligence or how to even classify something as intelligent\n",
    "- Artificial Intelligence also doesnt have a true definition because as stated above humans dont knwo what causes or how to classify something as intelligent"
   ]
  },
  {
   "cell_type": "markdown",
   "metadata": {},
   "source": [
    "### Philosophy of Deep Learning\n",
    "Deep Learning Algorithms are built off of lots of small and simple things because its fast\n",
    "Deep Learning is fundamentally empirical. We cannot know how things work from first principles; instead, we tinker, experiment, explore and discover. This is, historically, an extremely radical ideal\n",
    "Society is increasingly putting blind trust into a technology(Deep Learning) that we dont understand. **This is very different from trusting a car or phone"
   ]
  }
 ],
 "metadata": {
  "language_info": {
   "name": "python"
  }
 },
 "nbformat": 4,
 "nbformat_minor": 2
}
