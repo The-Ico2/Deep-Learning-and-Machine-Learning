{
 "cells": [
  {
   "cell_type": "markdown",
   "metadata": {},
   "source": [
    "# Are artificial \"Neurons\" like biological neurons?\n",
    "This document will cover:\n",
    "- About actual neurons\n",
    "- That \"Artificial Neurons\" are nothing like real neurons\n",
    "- How continuing this marketing scam is an insult to neuroscience and to life itself"
   ]
  },
  {
   "cell_type": "markdown",
   "metadata": {},
   "source": [
    "### Diversity of Neurons\n",
    "There are hundreds or even thousands of different kinds/species of neurons\n",
    "\n",
    "We do not have an established taxonomy of neurons. that means we dont even understand the incredible and rich complexity or the categories of neurons let alone how neurons function and truly compute information."
   ]
  },
  {
   "cell_type": "markdown",
   "metadata": {},
   "source": [
    "Bro Just rants for like 12 minutes about how artificial neurons are absolutely nothing like real neurons because he a neuroscientist and is hella offended"
   ]
  }
 ],
 "metadata": {
  "language_info": {
   "name": "python"
  }
 },
 "nbformat": 4,
 "nbformat_minor": 2
}
