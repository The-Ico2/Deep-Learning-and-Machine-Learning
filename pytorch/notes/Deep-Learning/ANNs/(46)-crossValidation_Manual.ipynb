{
 "cells": [
  {
   "cell_type": "code",
   "execution_count": 1,
   "metadata": {},
   "outputs": [],
   "source": [
    "import torch\n",
    "import torch.nn as nn\n",
    "import numpy as np\n",
    "import seaborn as sns\n",
    "iris = sns.load_dataset('iris')\n",
    "\n",
    "# convert from pandas to tensor\n",
    "data = torch.Tensor(iris[iris.columns[0:4]].values).float()\n",
    "\n",
    "# transform species to numbers\n",
    "labels = torch.zeros(len(data), dtype=torch.long)\n",
    "labels[iris.species=='versicolor'] = 1\n",
    "labels[iris.species=='virginica'] = 2"
   ]
  },
  {
   "cell_type": "code",
   "execution_count": 2,
   "metadata": {},
   "outputs": [],
   "source": [
    "# No devset here\n",
    "\n",
    "# how many training examples\n",
    "propTraining = .8\n",
    "nTraining = int(len(labels)*propTraining)\n",
    "traintestBool = np.zeros(len(labels), dtype=bool)\n",
    "traintestBool[range(nTraining)] = True\n",
    "\n",
    "items4train = np.random.choice(range(len(labels)), nTraining, replace=False)\n",
    "traintestBool[items4train] = True"
   ]
  },
  {
   "cell_type": "code",
   "execution_count": 3,
   "metadata": {},
   "outputs": [],
   "source": [
    "#create model\n",
    "model = nn.Sequential(\n",
    "    nn.Linear(4, 64),\n",
    "    nn.ReLU(),\n",
    "    nn.Linear(64, 64),\n",
    "    nn.ReLU(),\n",
    "    nn.Linear(64, 3)\n",
    ")\n",
    "\n",
    "lossfunction = nn.CrossEntropyLoss()\n",
    "optimizer = torch.optim.SGD(model.parameters(), lr=.01)"
   ]
  },
  {
   "cell_type": "code",
   "execution_count": 4,
   "metadata": {},
   "outputs": [],
   "source": [
    "numepochs = 1000\n",
    "losses = torch.zeros(numepochs)\n",
    "ongoingacc = []\n",
    "\n",
    "for epochi in range(numepochs):\n",
    "    yHat = model(data[traintestBool,:])\n",
    "    ongoingacc.append(100*torch.mean(\n",
    "        (torch.argmax(yHat,axis=1) == labels[traintestBool]).float()\n",
    "    ))\n",
    "    loss = lossfunction(yHat, labels[traintestBool])\n",
    "    losses[epochi] = loss\n",
    "\n",
    "    optimizer.zero_grad()\n",
    "    loss.backward()\n",
    "    optimizer.step()"
   ]
  },
  {
   "cell_type": "code",
   "execution_count": 5,
   "metadata": {},
   "outputs": [],
   "source": [
    "predictions = model(data[traintestBool, :])\n",
    "trainacc = 100*torch.mean((torch.argmax(predictions, axis=1) == labels[traintestBool]).float())\n",
    "\n",
    "predictions = model(data[~traintestBool, :])\n",
    "testacc = 100*torch.mean((torch.argmax(predictions, axis=1) == labels[~traintestBool]).float())"
   ]
  },
  {
   "cell_type": "code",
   "execution_count": 6,
   "metadata": {},
   "outputs": [
    {
     "name": "stdout",
     "output_type": "stream",
     "text": [
      "tensor(98.6014)\n",
      "tensor(71.4286)\n"
     ]
    }
   ],
   "source": [
    "print(trainacc)\n",
    "print(testacc)"
   ]
  }
 ],
 "metadata": {
  "kernelspec": {
   "display_name": "base",
   "language": "python",
   "name": "python3"
  },
  "language_info": {
   "codemirror_mode": {
    "name": "ipython",
    "version": 3
   },
   "file_extension": ".py",
   "mimetype": "text/x-python",
   "name": "python",
   "nbconvert_exporter": "python",
   "pygments_lexer": "ipython3",
   "version": "3.11.5"
  }
 },
 "nbformat": 4,
 "nbformat_minor": 2
}
