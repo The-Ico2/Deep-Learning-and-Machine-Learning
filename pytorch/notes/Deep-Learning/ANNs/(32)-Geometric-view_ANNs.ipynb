{
 "cells": [
  {
   "cell_type": "markdown",
   "metadata": {},
   "source": [
    "# A geometric view of ANNs\n",
    "This document will cover:\n",
    "- More on the basic architecture of an ANN\n",
    "- What the terms \"Feature Space\" and \"Separating Hyperplane\" mean.\n",
    "- How to visualize the types of ANN predictions"
   ]
  },
  {
   "cell_type": "markdown",
   "metadata": {},
   "source": [
    "### Feature Spaces\n",
    "- Feature Space:\n",
    "    - A geometric representation of the data, where each feature is an axis, and each observation is a coordinate\n",
    "- Sparating Hyperplane\n",
    "    - A boundary that binarizes and categorizes data. It is used as a \"decision boundary.\""
   ]
  },
  {
   "cell_type": "markdown",
   "metadata": {},
   "source": [
    "### Categories of model output\n",
    "|Discrete/Categorical/Binary/Boolean|Numeric/Continuous|\n",
    "|--|--|\n",
    "|Pass or fail / True or False / 1 or 0| Grade (Exam Score)|\n",
    "|Text Sentiment (Positive/Negative)|Language Translation|\n",
    "|Race (White, Asian, black)|Attractiveness(scale 1-10)|\n",
    "|Binary|Range of Values|"
   ]
  }
 ],
 "metadata": {
  "language_info": {
   "name": "python"
  }
 },
 "nbformat": 4,
 "nbformat_minor": 2
}
