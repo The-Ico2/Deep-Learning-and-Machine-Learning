{
 "cells": [
  {
   "cell_type": "code",
   "execution_count": 1,
   "metadata": {},
   "outputs": [],
   "source": [
    "# Import Libraries\n",
    "import torch\n",
    "import torch.nn as nn\n",
    "import torch.nn.functional as F\n",
    "import numpy as np\n",
    "import matplotlib.pyplot as plt\n",
    "import math as m"
   ]
  },
  {
   "cell_type": "code",
   "execution_count": 2,
   "metadata": {},
   "outputs": [],
   "source": [
    "import seaborn as sns\n",
    "iris = sns.load_dataset('iris')\n",
    "\n",
    "data = torch.tensor(iris[iris.columns[0:4]].values).float()\n",
    "labels = torch.zeros(len(data), dtype=torch.long)\n",
    "labels[iris.species=='versicolor'] = 1\n",
    "labels[iris.species=='virginica'] = 2"
   ]
  },
  {
   "cell_type": "code",
   "execution_count": 3,
   "metadata": {},
   "outputs": [
    {
     "name": "stdout",
     "output_type": "stream",
     "text": [
      "2.0611536181902037e-09\n",
      "5\n",
      "ANNiris(\n",
      "  (layers): ModuleDict(\n",
      "    (input): Linear(in_features=4, out_features=12, bias=True)\n",
      "    (hidden0): Linear(in_features=12, out_features=12, bias=True)\n",
      "    (hidden1): Linear(in_features=12, out_features=12, bias=True)\n",
      "    (hidden2): Linear(in_features=12, out_features=12, bias=True)\n",
      "    (hidden3): Linear(in_features=12, out_features=12, bias=True)\n",
      "    (output): Linear(in_features=12, out_features=3, bias=True)\n",
      "  )\n",
      ")\n",
      "torch.Size([10, 3]) \n",
      "\n",
      "tensor([[-0.0638,  0.0290, -0.1899],\n",
      "        [-0.0637,  0.0285, -0.1911],\n",
      "        [-0.0658,  0.0282, -0.1948],\n",
      "        [-0.0657,  0.0290, -0.1929],\n",
      "        [-0.0659,  0.0296, -0.1904],\n",
      "        [-0.0638,  0.0295, -0.1882],\n",
      "        [-0.0673,  0.0272, -0.1986],\n",
      "        [-0.0615,  0.0280, -0.1835],\n",
      "        [-0.0621,  0.0273, -0.1904],\n",
      "        [-0.0646,  0.0289, -0.1909]], grad_fn=<AddmmBackward0>)\n"
     ]
    }
   ],
   "source": [
    "def sigmoid(inp):\n",
    "    result = 1/(1 + m.exp(-inp))\n",
    "    print(result)\n",
    "    return result;\n",
    "def ReLU(inp):\n",
    "    result = max(0,inp)\n",
    "    print(result)\n",
    "\n",
    "sigmoid(-20)\n",
    "ReLU(5)\n",
    "\n",
    "\n",
    "\n",
    "class ANNiris(nn.Module):\n",
    "    def __init__(self, nUnits, nLayers):\n",
    "        super().__init__()\n",
    "        self.layers = nn.ModuleDict()\n",
    "        self.nLayers = nLayers#nUnits#\n",
    "\n",
    "\n",
    "        # Input Layer\n",
    "        self.layers['input'] = nn.Linear(4, nUnits)\n",
    "        # hidden layers\n",
    "        for i in range(nLayers):\n",
    "            self.layers[f'hidden{i}'] = nn.Linear(nUnits,nUnits)\n",
    "\n",
    "        # output layer\n",
    "        self.layers['output'] = nn.Linear(nUnits,3)\n",
    "    \n",
    "    # Forward Pass\n",
    "    def forward(self, x):\n",
    "\n",
    "        # Input Layer\n",
    "        x = self.layers['input'](x)\n",
    "\n",
    "        # Hidden Layer\n",
    "        for i in range(self.nLayers):\n",
    "            x = F.relu( self.layers[f'hidden{i}'](x) )\n",
    "\n",
    "        # Return Output Layer\n",
    "        x = self.layers['output'](x)\n",
    "        return x\n",
    "\n",
    "# Generate an instance of the model and inspect it\n",
    "nUnitsPerLayer = 12\n",
    "nLayers = 4\n",
    "net = ANNiris(nUnitsPerLayer, nLayers)\n",
    "print(net)\n",
    "\n",
    "\n",
    "# A quick test of running some numbers through the model\n",
    "# This simply ensures that the architcture is internally consistent\n",
    "\n",
    "# 10 samples, 4 dims\n",
    "tmpx = torch.randn(10,4)\n",
    "\n",
    "# Run it through the DL Model\n",
    "y = net(tmpx)\n",
    "\n",
    "# exam the shape of the output\n",
    "print(y.shape, \"\\n\")\n",
    "\n",
    "# print output\n",
    "print(y)\n",
    "\n"
   ]
  }
 ],
 "metadata": {
  "kernelspec": {
   "display_name": "base",
   "language": "python",
   "name": "python3"
  },
  "language_info": {
   "codemirror_mode": {
    "name": "ipython",
    "version": 3
   },
   "file_extension": ".py",
   "mimetype": "text/x-python",
   "name": "python",
   "nbconvert_exporter": "python",
   "pygments_lexer": "ipython3",
   "version": "3.11.5"
  }
 },
 "nbformat": 4,
 "nbformat_minor": 2
}
