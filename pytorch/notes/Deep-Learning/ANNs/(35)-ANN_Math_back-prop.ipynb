{
 "cells": [
  {
   "cell_type": "markdown",
   "metadata": {},
   "source": [
    "# ANN Math Part 3 (Back Propagation)\n",
    "This document will cover:\n",
    "- More of the math underlying ANNs\n",
    "- How the gradient descent algorithm is extended to Deep Learning\n",
    "- That all nodes in a network are the same"
   ]
  },
  {
   "cell_type": "markdown",
   "metadata": {},
   "source": [
    "### Forward prop and backprop\n",
    "\"Forward Propagation\": Compute output based on input\n",
    "\"Backwards Propagation\": Adjust the weights based on loss/cost"
   ]
  }
 ],
 "metadata": {
  "language_info": {
   "name": "python"
  }
 },
 "nbformat": 4,
 "nbformat_minor": 2
}
