{
 "cells": [
  {
   "cell_type": "markdown",
   "metadata": {},
   "source": [
    "# ANN Math Part 1 (Forward Propagation)\n",
    "This document will cover:\n",
    "- Hals of the math of ANNs (and therefor also Deep Learning)\n",
    "- More about biases, weights, and activation functions\n",
    "- How ANNs classiy  inputs"
   ]
  }
 ],
 "metadata": {
  "language_info": {
   "name": "python"
  }
 },
 "nbformat": 4,
 "nbformat_minor": 2
}
