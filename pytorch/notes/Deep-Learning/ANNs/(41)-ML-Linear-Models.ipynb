{
 "cells": [
  {
   "cell_type": "markdown",
   "metadata": {},
   "source": [
    "# Why multilayer linear models dont exist\n",
    "This document will cover:\n",
    "- The math of multilayer linear models\n",
    "- Why a \"multi-layer\" linear model is really just one layer as long as there are nononlinear activation units"
   ]
  },
  {
   "cell_type": "markdown",
   "metadata": {},
   "source": [
    "|||\n",
    "|--:|--:|\n",
    "| $\\hat{y}=l_1=\\sigma(x_0^T w_1)$ | $l_1=x_0^Tw_1$|\n",
    "| $l_2=\\sigma(x_0^T w_1)$ | $l_2=l_1^Tw_2$|\n",
    "| $=\\sigma(\\sigma(x_0^Tw_1)^Tw_2)$ | $=(x_0^Tw_1)$|\n"
   ]
  }
 ],
 "metadata": {
  "language_info": {
   "name": "python"
  }
 },
 "nbformat": 4,
 "nbformat_minor": 2
}
