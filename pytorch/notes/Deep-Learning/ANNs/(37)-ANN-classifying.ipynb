{
 "cells": [
  {
   "cell_type": "markdown",
   "metadata": {},
   "source": [
    "# ANN for classifying qwerties\n",
    "This document will cover:\n",
    "- What a 'qwerty' is (Hint: its a meaningless name)\n",
    "- How to construct anANN model for binary classification\n",
    "- Why its dangerous to assume that ANNs always work"
   ]
  },
  {
   "cell_type": "code",
   "execution_count": 6,
   "metadata": {},
   "outputs": [],
   "source": [
    "# import libraries\n",
    "import numpy as  np\n",
    "import torch as t\n",
    "import torch.nn as tnn\n",
    "import matplotlib.pyplot as plt"
   ]
  },
  {
   "cell_type": "code",
   "execution_count": 7,
   "metadata": {},
   "outputs": [
    {
     "ename": "TypeError",
     "evalue": "where() got an unexpected keyword argument 'label'",
     "output_type": "error",
     "traceback": [
      "\u001b[1;31m---------------------------------------------------------------------------\u001b[0m",
      "\u001b[1;31mTypeError\u001b[0m                                 Traceback (most recent call last)",
      "Cell \u001b[1;32mIn[7], line 25\u001b[0m\n\u001b[0;32m     23\u001b[0m \u001b[38;5;66;03m# show the data\u001b[39;00m\n\u001b[0;32m     24\u001b[0m fig \u001b[38;5;241m=\u001b[39m plt\u001b[38;5;241m.\u001b[39mfigure(figsize\u001b[38;5;241m=\u001b[39m(\u001b[38;5;241m5\u001b[39m,\u001b[38;5;241m5\u001b[39m))\n\u001b[1;32m---> 25\u001b[0m plt\u001b[38;5;241m.\u001b[39mplot(data[np\u001b[38;5;241m.\u001b[39mwhere(label\u001b[38;5;241m=\u001b[39m\u001b[38;5;241m0\u001b[39m)[\u001b[38;5;241m0\u001b[39m], \u001b[38;5;241m0\u001b[39m], data[np\u001b[38;5;241m.\u001b[39mwhere(label\u001b[38;5;241m=\u001b[39m\u001b[38;5;241m0\u001b[39m)[\u001b[38;5;241m0\u001b[39m], \u001b[38;5;241m1\u001b[39m], \u001b[38;5;124m'\u001b[39m\u001b[38;5;124mbs\u001b[39m\u001b[38;5;124m'\u001b[39m)\n\u001b[0;32m     26\u001b[0m plt\u001b[38;5;241m.\u001b[39mplot(data[np\u001b[38;5;241m.\u001b[39mwhere(label\u001b[38;5;241m=\u001b[39m\u001b[38;5;241m1\u001b[39m)[\u001b[38;5;241m0\u001b[39m], \u001b[38;5;241m0\u001b[39m], data[np\u001b[38;5;241m.\u001b[39mwhere(label\u001b[38;5;241m=\u001b[39m\u001b[38;5;241m1\u001b[39m)[\u001b[38;5;241m0\u001b[39m], \u001b[38;5;241m1\u001b[39m], \u001b[38;5;124m'\u001b[39m\u001b[38;5;124mbs\u001b[39m\u001b[38;5;124m'\u001b[39m)\n\u001b[0;32m     27\u001b[0m plt\u001b[38;5;241m.\u001b[39mtitle(\u001b[38;5;124m'\u001b[39m\u001b[38;5;124mThe Qwerties\u001b[39m\u001b[38;5;124m'\u001b[39m)\n",
      "\u001b[1;31mTypeError\u001b[0m: where() got an unexpected keyword argument 'label'"
     ]
    },
    {
     "data": {
      "text/plain": [
       "<Figure size 500x500 with 0 Axes>"
      ]
     },
     "metadata": {},
     "output_type": "display_data"
    }
   ],
   "source": [
    "# Create data\n",
    "\n",
    "nPerClust = 100\n",
    "blur = 1\n",
    "\n",
    "A = [1, 1]\n",
    "B = [5, 1]\n",
    "\n",
    "# generate data\n",
    "a = [A[0]+np.random.randn(nPerClust)*blur, A[1]+np.random.randn(nPerClust)*blur]\n",
    "b = [B[0]+np.random.randn(nPerClust)*blur, B[1]+np.random.randn(nPerClust)*blur]\n",
    "\n",
    "# True labels\n",
    "labels_np = np.vstack((np.zeros((nPerClust,1)),np.ones((nPerClust,1))))\n",
    "\n",
    "# Concatenate into a matrix\n",
    "data_np = np.hstack((a,b)).T\n",
    "\n",
    "# Convert to a pytorch tensor\n",
    "data = t.tensor(data_np).float()\n",
    "labels = t.tensor(labels_np).float()\n",
    "\n",
    "# show the data\n",
    "fig = plt.figure(figsize=(5,5))\n",
    "plt.plot(data[np.where(labels=0)[0], 0], data[np.where(labels=0)[0], 1], 'bs')\n",
    "plt.plot(data[np.where(labels=1)[0], 0], data[np.where(labels=1)[0], 1], 'bs')\n",
    "plt.title('The Qwerties')\n",
    "plt.xlabel('qwerty dim 1')\n",
    "plt.ylabel('qwerty dim 2')\n",
    "plt.show()"
   ]
  },
  {
   "cell_type": "code",
   "execution_count": null,
   "metadata": {},
   "outputs": [],
   "source": [
    "# setup ANN\n",
    "ANN = tnn.Sequential(\n",
    "    tnn.Linear(2,1),     # input layer\n",
    "    tnn.ReLU(),          # activation function\n",
    "    tnn.Linear(1,1),     # output layer\n",
    "    tnn.Sigmoid()        # output layer activation function\n",
    ")"
   ]
  }
 ],
 "metadata": {
  "kernelspec": {
   "display_name": "base",
   "language": "python",
   "name": "python3"
  },
  "language_info": {
   "codemirror_mode": {
    "name": "ipython",
    "version": 3
   },
   "file_extension": ".py",
   "mimetype": "text/x-python",
   "name": "python",
   "nbconvert_exporter": "python",
   "pygments_lexer": "ipython3",
   "version": "3.11.5"
  }
 },
 "nbformat": 4,
 "nbformat_minor": 2
}
