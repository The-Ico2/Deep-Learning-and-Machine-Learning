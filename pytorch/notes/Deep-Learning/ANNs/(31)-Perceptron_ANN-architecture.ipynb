{
 "cells": [
  {
   "cell_type": "markdown",
   "metadata": {},
   "source": [
    "# The Perceptron and ANN Architecture\n",
    "This document will cover:\n",
    "- The basic architecture of an ANN (Artificial Neural Networks)\n",
    "- The linear and nonlinear components of an artificial neural network\n",
    "- Several key terms of neural networks"
   ]
  },
  {
   "cell_type": "markdown",
   "metadata": {},
   "source": [
    "### Linear vs Non-Linear Operations\n",
    "- Linear: Addition and Scalar-Multiplications\n",
    "- Nonlinear: Anything Else\n",
    "\n",
    "|Linear|Non-Linear|\n",
    "|:--|:--|\n",
    "|Linear Models only solve Linearly seperable problems|Nonlinear models can solve more complex problems|\n",
    "|Never use a Linear model for a Non-linear problem|Never use a Nonlinear model for a Linear problem|"
   ]
  },
  {
   "cell_type": "markdown",
   "metadata": {},
   "source": [
    "#### The math of deep learning"
   ]
  },
  {
   "cell_type": "code",
   "execution_count": 19,
   "metadata": {},
   "outputs": [
    {
     "name": "stdout",
     "output_type": "stream",
     "text": [
      "tensor([[[ 0.9471],\n",
      "         [ 0.9864],\n",
      "         [ 0.8807]],\n",
      "\n",
      "        [[-1.2874],\n",
      "         [-1.1755],\n",
      "         [-0.2384]]]) tensor([0.0500, 0.2930, 0.2726])\n",
      "tensor([[[ 0.9471, -1.2874],\n",
      "         [ 0.9864, -1.1755],\n",
      "         [ 0.8807, -0.2384]]]) tensor([0.0500, 0.2930, 0.2726])\n"
     ]
    },
    {
     "ename": "RuntimeError",
     "evalue": "The size of tensor a (2) must match the size of tensor b (3) at non-singleton dimension 2",
     "output_type": "error",
     "traceback": [
      "\u001b[1;31m---------------------------------------------------------------------------\u001b[0m",
      "\u001b[1;31mRuntimeError\u001b[0m                              Traceback (most recent call last)",
      "Cell \u001b[1;32mIn[19], line 5\u001b[0m\n\u001b[0;32m      3\u001b[0m \u001b[38;5;28mprint\u001b[39m(x, w)\n\u001b[0;32m      4\u001b[0m \u001b[38;5;28mprint\u001b[39m(x\u001b[38;5;241m.\u001b[39mT, w)\n\u001b[1;32m----> 5\u001b[0m yHat \u001b[38;5;241m=\u001b[39m torch\u001b[38;5;241m.\u001b[39msigmoid(x\u001b[38;5;241m.\u001b[39mT\u001b[38;5;241m*\u001b[39mw)\n\u001b[0;32m      7\u001b[0m \u001b[38;5;28mprint\u001b[39m(yHat)\n",
      "\u001b[1;31mRuntimeError\u001b[0m: The size of tensor a (2) must match the size of tensor b (3) at non-singleton dimension 2"
     ]
    }
   ],
   "source": [
    "import torch\n",
    "x = torch.randn(2, 3, 1); w = torch.tensor([.05, .293, .2726]);\n",
    "print(x, w)\n",
    "print(x.T, w)\n",
    "yHat = torch.sigmoid(x.T*w)\n",
    "\n",
    "print(yHat)"
   ]
  }
 ],
 "metadata": {
  "kernelspec": {
   "display_name": "base",
   "language": "python",
   "name": "python3"
  },
  "language_info": {
   "codemirror_mode": {
    "name": "ipython",
    "version": 3
   },
   "file_extension": ".py",
   "mimetype": "text/x-python",
   "name": "python",
   "nbconvert_exporter": "python",
   "pygments_lexer": "ipython3",
   "version": "3.11.5"
  }
 },
 "nbformat": 4,
 "nbformat_minor": 2
}
