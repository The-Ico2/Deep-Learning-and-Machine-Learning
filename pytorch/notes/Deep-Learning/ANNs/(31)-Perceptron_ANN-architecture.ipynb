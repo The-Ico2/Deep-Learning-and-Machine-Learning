{
 "cells": [
  {
   "cell_type": "markdown",
   "metadata": {},
   "source": [
    "# The Perceptron and ANN Architecture\n",
    "This document will cover:\n",
    "- The basic architecture of an ANN (Artificial Neural Networks)\n",
    "- The linear and nonlinear components of an artificial neural network\n",
    "- Several key terms of neural networks"
   ]
  },
  {
   "cell_type": "markdown",
   "metadata": {},
   "source": [
    "### Linear vs Non-Linear Operations\n",
    "- Linear: Addition and Scalar-Multiplications\n",
    "- Nonlinear: Anything Else\n",
    "\n",
    "|Linear|Non-Linear|\n",
    "|:--|:--|\n",
    "|Linear Models only solve Linearly seperable problems|Nonlinear models can solve more complex problems|\n",
    "|Never use a Linear model for a Non-linear problem|Never use a Nonlinear model for a Linear problem|"
   ]
  },
  {
   "cell_type": "markdown",
   "metadata": {},
   "source": [
    "#### The math of deep learning"
   ]
  },
  {
   "cell_type": "code",
   "execution_count": 132,
   "metadata": {},
   "outputs": [
    {
     "name": "stdout",
     "output_type": "stream",
     "text": [
      "tensor([[1.5388, 0.1232],\n",
      "        [1.5489, 0.1055],\n",
      "        [0.3618, 1.0498]])\n",
      "tensor([[0.0500, 0.2930, 0.2726],\n",
      "        [0.0950, 0.2300, 0.2260]])\n",
      "\n",
      "Transposed: \n",
      "tensor([[1.5388, 1.5489, 0.3618],\n",
      "        [0.1232, 0.1055, 1.0498]])\n",
      "tensor([[0.0500, 0.2930, 0.2726],\n",
      "        [0.0950, 0.2300, 0.2260]])\n",
      "\n",
      "\n",
      " tensor([[0.0886, 0.4792, 0.4473],\n",
      "        [0.0875, 0.4781, 0.4461],\n",
      "        [0.1178, 0.3475, 0.3359]])\n",
      "tensor([[0.5221, 0.6176, 0.6100],\n",
      "        [0.5219, 0.6173, 0.6097],\n",
      "        [0.5294, 0.5860, 0.5832]])\n"
     ]
    }
   ],
   "source": [
    "import torch\n",
    "x = torch.randn(3, 2); w = torch.tensor([[.05, .293, .2726], [.095, .23, .226]]);\n",
    "print(x)\n",
    "print(w)\n",
    "print('\\nTransposed: ')\n",
    "print(x.T)\n",
    "print(w)\n",
    "\n",
    "yHat = torch.mm(x, w)\n",
    "\n",
    "print('\\n\\n',yHat)\n",
    "print(torch.sigmoid(yHat))"
   ]
  },
  {
   "cell_type": "markdown",
   "metadata": {},
   "source": [
    "***\n",
    "##### Notes\n",
    "This code snippet performs matrix multiplication between two tensors in PyTorch and applies the sigmoid function to the result. Let's break down what each part does:\n",
    "\n",
    "1. **Tensor Initialization**:\n",
    "   - `x`: Creates a 3x2 tensor with random values sampled from a standard normal distribution using `torch.randn(3, 2)`.\n",
    "   - `w`: Initializes a tensor with specified values using `torch.tensor([[.05, .293, .2726], [.095, .23, .226]])`.\n",
    "\n",
    "2. **Printing Tensors**:\n",
    "   - Prints the values of tensors `x` and `w` using `print()` statements.\n",
    "   - `x.T`: Prints the transpose of tensor `x` using `.T` attribute.\n",
    "\n",
    "3. **Matrix Multiplication**:\n",
    "   - Performs matrix multiplication between tensors `x` and `w` using `torch.mm(x, w)` and assigns the result to `yHat`.\n",
    "\n",
    "4. **Applying Sigmoid Function**:\n",
    "   - Applies the sigmoid function element-wise to the tensor `yHat` using `torch.sigmoid(yHat)`.\n",
    "\n",
    "Let's summarize the output:\n",
    "- The original values of tensors `x` and `w` are printed.\n",
    "- The transpose of tensor `x` is printed.\n",
    "- The result of the matrix multiplication `yHat` is printed.\n",
    "- The element-wise application of the sigmoid function to `yHat` is printed.\n",
    "\n",
    "This code snippet demonstrates basic tensor operations in PyTorch and showcases how to perform matrix multiplication and apply a non-linear activation function like the sigmoid function to the resulting tensor."
   ]
  }
 ],
 "metadata": {
  "kernelspec": {
   "display_name": "base",
   "language": "python",
   "name": "python3"
  },
  "language_info": {
   "codemirror_mode": {
    "name": "ipython",
    "version": 3
   },
   "file_extension": ".py",
   "mimetype": "text/x-python",
   "name": "python",
   "nbconvert_exporter": "python",
   "pygments_lexer": "ipython3",
   "version": "3.11.5"
  }
 },
 "nbformat": 4,
 "nbformat_minor": 2
}
