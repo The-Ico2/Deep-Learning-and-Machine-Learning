{
 "cells": [
  {
   "cell_type": "markdown",
   "metadata": {},
   "source": [
    "# The Perceptron and ANN Architecture\n",
    "This document will cover:\n",
    "- The basic architecture of an ANN (Artificial Neural Networks)\n",
    "- The linear and nonlinear components of an artificial neural network\n",
    "- Several key terms of neural networks"
   ]
  },
  {
   "cell_type": "markdown",
   "metadata": {},
   "source": [
    "### Linear vs Non-Linear Operations\n",
    "- Linear: Addition and Scalar-Multiplications\n",
    "- Nonlinear: Anything Else\n",
    "\n",
    "|Linear|Non-Linear|\n",
    "|:--|:--|\n",
    "|Linear Models only solve Linearly seperable problems|Nonlinear models can solve more complex problems|\n",
    "|Never use a Linear model for a Non-linear problem|Never use a Nonlinear model for a Linear problem|"
   ]
  },
  {
   "cell_type": "markdown",
   "metadata": {},
   "source": [
    "#### The math of deep learning"
   ]
  },
  {
   "cell_type": "code",
   "execution_count": 132,
   "metadata": {},
   "outputs": [
    {
     "name": "stdout",
     "output_type": "stream",
     "text": [
      "tensor([[1.5388, 0.1232],\n",
      "        [1.5489, 0.1055],\n",
      "        [0.3618, 1.0498]])\n",
      "tensor([[0.0500, 0.2930, 0.2726],\n",
      "        [0.0950, 0.2300, 0.2260]])\n",
      "\n",
      "Transposed: \n",
      "tensor([[1.5388, 1.5489, 0.3618],\n",
      "        [0.1232, 0.1055, 1.0498]])\n",
      "tensor([[0.0500, 0.2930, 0.2726],\n",
      "        [0.0950, 0.2300, 0.2260]])\n",
      "\n",
      "\n",
      " tensor([[0.0886, 0.4792, 0.4473],\n",
      "        [0.0875, 0.4781, 0.4461],\n",
      "        [0.1178, 0.3475, 0.3359]])\n",
      "tensor([[0.5221, 0.6176, 0.6100],\n",
      "        [0.5219, 0.6173, 0.6097],\n",
      "        [0.5294, 0.5860, 0.5832]])\n"
     ]
    }
   ],
   "source": [
    "import torch\n",
    "x = torch.randn(3, 2); w = torch.tensor([[.05, .293, .2726], [.095, .23, .226]]);\n",
    "print(x)\n",
    "print(w)\n",
    "print('\\nTransposed: ')\n",
    "print(x.T)\n",
    "print(w)\n",
    "\n",
    "yHat = torch.mm(x, w)\n",
    "\n",
    "print('\\n\\n',yHat)\n",
    "print(torch.sigmoid(yHat))"
   ]
  }
 ],
 "metadata": {
  "kernelspec": {
   "display_name": "base",
   "language": "python",
   "name": "python3"
  },
  "language_info": {
   "codemirror_mode": {
    "name": "ipython",
    "version": 3
   },
   "file_extension": ".py",
   "mimetype": "text/x-python",
   "name": "python",
   "nbconvert_exporter": "python",
   "pygments_lexer": "ipython3",
   "version": "3.11.5"
  }
 },
 "nbformat": 4,
 "nbformat_minor": 2
}
