{
 "cells": [
  {
   "cell_type": "markdown",
   "metadata": {},
   "source": [
    "# Running Experiments to understand Deep Learning\n",
    "This Document goes over:\n",
    "- How to be an experimental scientist with Deep Learning\n",
    "- What a \"parametric experiment\" is\n",
    "- How to evaluate and interpret parametric experiments"
   ]
  },
  {
   "cell_type": "markdown",
   "metadata": {},
   "source": [
    "### Parametric Experiments\n",
    "Parametric Experiment: repeating an experiment while systematically manipulation one or two variables\n",
    "Independent Variables: The variables you can manipulate (Learning Rate, Batch Size, Optimizer, Loss Function, ...)\n",
    "Dependent Variables: The key outcome variable you use to evaluate model performance (Accuracy, Speed)"
   ]
  },
  {
   "cell_type": "markdown",
   "metadata": {},
   "source": [
    "#### What to conclude from parametric Experiments\n",
    "- Correct interpretation of Deep Learning experiments:\n",
    "    - \"This is the best set of parameters for this model, this architecture, and this dataset.\"\n",
    "    - \"This is a general pattern that i'm likely to see in other models and other datasets.\"\n",
    "- Incorrect Interpretation of Deep Learning Experiments:\n",
    "    - \"This is the exact optimal parameter for every model and every dataset.\""
   ]
  },
  {
   "cell_type": "markdown",
   "metadata": {},
   "source": [
    "### Problems with an experimental approach to Deep Learning\n",
    "Feasibility: Small or simple models are fast to computer, but large models take a long time to train and evaluate\n",
    "Generalizability: Specific findings from one model may not repliacte in other architectures or other sets of parameters.\n",
    "\n",
    "Solution: Use the experimental approach to build intuition and gain expertise about Deep Learning modeling in general."
   ]
  }
 ],
 "metadata": {
  "language_info": {
   "name": "python"
  }
 },
 "nbformat": 4,
 "nbformat_minor": 2
}
