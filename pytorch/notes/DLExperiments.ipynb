{
 "cells": [
  {
   "cell_type": "markdown",
   "metadata": {},
   "source": [
    "# Running Experiments to understand Deep Learning\n",
    "This Document goes over:\n",
    "- How to be an experimental scientist with Deep Learning\n",
    "- What a \"parametric experiment\" is\n",
    "- How to evaluate and interpret parametric experiments"
   ]
  },
  {
   "cell_type": "markdown",
   "metadata": {},
   "source": []
  }
 ],
 "metadata": {
  "language_info": {
   "name": "python"
  }
 },
 "nbformat": 4,
 "nbformat_minor": 2
}
