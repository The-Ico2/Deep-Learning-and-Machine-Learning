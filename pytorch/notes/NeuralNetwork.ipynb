{
 "cells": [
  {
   "cell_type": "markdown",
   "metadata": {},
   "source": [
    "# What is an Artifical Neural Network(ANN)?\n",
    "This document goes over:\n",
    "- basic conceptual ideas of deep learning\n",
    "- The different families of Deep learning Models\n",
    "- About different Neural Network Architectures"
   ]
  },
  {
   "cell_type": "markdown",
   "metadata": {},
   "source": [
    "### What is an ANN?\n",
    "Input --> Calculations (Basic Arithmetic and Some Calculus) --> Output\n",
    "\n",
    "Ex:\n",
    " - input(Browser History) --> calculations (Basic Arithmetic and Some Calculus) --> p(click)\n",
    "    - A program that takes your browser history, predicts how likely you are to click on different advertisements, video or anything\n",
    " - input(credit card transaction) --> calculations (Basic Arithmetic and Some Calculus) --> fraud?\n",
    "    - A program that takes your transaction history and tries to predict if a transaction was you or was fraud"
   ]
  },
  {
   "cell_type": "code",
   "execution_count": null,
   "metadata": {},
   "outputs": [],
   "source": [
    "## This program WILL return an Error, do NOT run 'sigma' and 'log' are not actually called as they are in this program\n",
    "# This is not all of the math of deep learning but is a suprising amount\n",
    "x1 = 'Data Value 1'\n",
    "w1 = 'Weight Value 1'\n",
    "x2 = 'Data Value 2'\n",
    "w2 = 'Weight Value 2'\n",
    "xn = 'Data Value (n)'\n",
    "wn = 'Weight Value (n)'\n",
    "\n",
    "# yHat is the value predicted by the model\n",
    "yHatL = x1*w1 + x2*w2 + xn*wn # Linear Function\n",
    "yHatNL1 = sigma(x1*w1 + x2*w2 + xn*wn) # Non-Linear Function using a Sigmoid\n",
    "yHatNL2 = log(x1*w1 + x2*w2 + xn*wn) # Non-Linear Funciton using Log function\n",
    "# All the equations above are used as building blocks of the complete model"
   ]
  },
  {
   "cell_type": "markdown",
   "metadata": {},
   "source": [
    "### Deep Learning Architectures\n",
    "- ANN \n",
    "    - Artificial Neural Network\n",
    "- CNN \n",
    "    - Convolusional Neural Network\n",
    "- RNN \n",
    "    - Recurrent Neural Network\n",
    "\n",
    "Example of Use:\n",
    "- input --> calculations (Basic Arithmetic and Some Calculus) --> Output\n",
    "- Student Behavior --> ANN --> Exam Outcome\n",
    "- Picture --> CNN --> Contains Cat?\n",
    "- Audio clip of cough --> RNN --> Has covid?"
   ]
  }
 ],
 "metadata": {
  "kernelspec": {
   "display_name": "Python 3",
   "language": "python",
   "name": "python3"
  },
  "language_info": {
   "name": "python",
   "version": "0.0.0"
  }
 },
 "nbformat": 4,
 "nbformat_minor": 2
}
