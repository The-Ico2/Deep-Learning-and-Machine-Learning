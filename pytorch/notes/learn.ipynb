{
 "cells": [
  {
   "cell_type": "markdown",
   "metadata": {},
   "source": [
    "# How Models \"Learn\"\n",
    "This document goes over:\n",
    "- A high-level summary into the mechanism of learning in artificial neural networks\n",
    "- The different between forward and backwards propagation"
   ]
  },
  {
   "cell_type": "markdown",
   "metadata": {},
   "source": [
    "Weights are used to define the importance of each data variable\n",
    "\n",
    "Forward Propagation is what progresses the model \"forwards\" while training\n",
    "Backwards Propagation is used to progress the model backwards to adjust the weights based on negative feedback (loss function). the model is essentially re-learning when it gets negative feedback"
   ]
  }
 ],
 "metadata": {
  "language_info": {
   "name": "python"
  }
 },
 "nbformat": 4,
 "nbformat_minor": 2
}
