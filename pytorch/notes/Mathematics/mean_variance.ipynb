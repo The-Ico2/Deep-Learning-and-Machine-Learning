{
 "cells": [
  {
   "cell_type": "markdown",
   "metadata": {},
   "source": [
    "# Mean and Variance\n",
    "This document will cover:\n",
    "- The definition of \"average\"\n",
    "- The definition and interpretation of \"variance\""
   ]
  },
  {
   "cell_type": "markdown",
   "metadata": {},
   "source": [
    "### Mean (a.k.a arithmetic mean a.k.a average)\n",
    "|Mean is Suitable for:|\n",
    "|:-:|\n",
    "|Roughly normall distributred data|\n",
    "|__Suitable Data Types:__|\n",
    "|Interval, Ratio|"
   ]
  },
  {
   "cell_type": "code",
   "execution_count": null,
   "metadata": {},
   "outputs": [],
   "source": []
  }
 ],
 "metadata": {
  "kernelspec": {
   "display_name": "Python 3",
   "language": "python",
   "name": "python3"
  },
  "language_info": {
   "name": "python",
   "version": "3.11.5"
  }
 },
 "nbformat": 4,
 "nbformat_minor": 2
}
