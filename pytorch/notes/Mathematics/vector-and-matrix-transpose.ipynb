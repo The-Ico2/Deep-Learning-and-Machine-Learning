{
 "cells": [
  {
   "cell_type": "markdown",
   "metadata": {},
   "source": [
    "# Vector and Matrix Transpose\n",
    "This document will cover:\n",
    "- Transposing vectors and Matrices"
   ]
  },
  {
   "cell_type": "code",
   "execution_count": 14,
   "metadata": {},
   "outputs": [
    {
     "name": "stdout",
     "output_type": "stream",
     "text": [
      "tensor([[1., 2., 3., 4., 5., 6., 7., 8., 9., 0.]])\n",
      "tensor([[1.],\n",
      "        [2.],\n",
      "        [3.],\n",
      "        [4.],\n",
      "        [5.],\n",
      "        [6.],\n",
      "        [7.],\n",
      "        [8.],\n",
      "        [9.],\n",
      "        [0.]])\n"
     ]
    }
   ],
   "source": [
    "# Transposing a Vector with PyTorch\n",
    "import torch\n",
    "vector = torch.Tensor([[1,2,3,4,5,6,7,8,9,0]])\n",
    "print(vector)\n",
    "print(vector.T)"
   ]
  },
  {
   "cell_type": "code",
   "execution_count": 13,
   "metadata": {},
   "outputs": [
    {
     "name": "stdout",
     "output_type": "stream",
     "text": [
      "tensor([[12.,  3., 12.,  2., 78.],\n",
      "        [ 3., 12., 41.,  2., 78.],\n",
      "        [12.,  3., 12.,  2., 78.]])\n",
      "tensor([[12.,  3., 12.],\n",
      "        [ 3., 12.,  3.],\n",
      "        [12., 41., 12.],\n",
      "        [ 2.,  2.,  2.],\n",
      "        [78., 78., 78.]])\n"
     ]
    }
   ],
   "source": [
    "# Transposing a Matrix with PyTorch\n",
    "import torch\n",
    "matrix = torch.Tensor([\n",
    "    [12, 3,12,2,78],\n",
    "    [3,12,41,2,78],\n",
    "    [12, 3,12,2,78]\n",
    "    ])\n",
    "print(matrix)\n",
    "print(matrix.T) # the .T method will Transpose the matrix"
   ]
  }
 ],
 "metadata": {
  "kernelspec": {
   "display_name": "Python 3",
   "language": "python",
   "name": "python3"
  },
  "language_info": {
   "codemirror_mode": {
    "name": "ipython",
    "version": 3
   },
   "file_extension": ".py",
   "mimetype": "text/x-python",
   "name": "python",
   "nbconvert_exporter": "python",
   "pygments_lexer": "ipython3",
   "version": "3.11.5"
  }
 },
 "nbformat": 4,
 "nbformat_minor": 2
}
