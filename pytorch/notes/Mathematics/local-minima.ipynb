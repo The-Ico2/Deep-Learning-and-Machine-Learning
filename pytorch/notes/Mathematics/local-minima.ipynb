{
 "cells": [
  {
   "cell_type": "markdown",
   "metadata": {},
   "source": [
    "# Local Minima\n",
    "This document will cover:\n",
    "- Potential problems with the Gradient Descent algorithm\n",
    "- Why its hard to know whether this is a serious issue\n",
    "- Two possible strategies to avoid local minima"
   ]
  },
  {
   "cell_type": "markdown",
   "metadata": {},
   "source": [
    "### Potential prroblems with gradient descent\n",
    "Gradient descent is gaurenteed to go \"downhill\"\n",
    "\n",
    "It is not gaurenteed to find the correct - or even the best - solution\n",
    "\n",
    "Gradient descent can go wrong if parameters are not set right for the particular error landscape\n",
    "\n",
    "Error landsacpes are impossible to visualize in >2D"
   ]
  },
  {
   "cell_type": "markdown",
   "metadata": {},
   "source": [
    "#### Does it Matter?\n",
    "The sucess of deep learning, in spite of the \"problems\" with gradient descent, remaining a mystery \n",
    "\n",
    "- It is possible that there are many good solutions (many equally goog local minima).\n",
    "    - This interpretation is consistent with the huge diversity of weight configurations that produce similiar model performance\n",
    "- Another possibly is that there are extremely few local minima in  high-dimensional space.\n",
    "    - This intrepretation is consistent with the comlexity and absurd dimenstionality of DL models\n",
    "\n",
    "Gradient Descent will get trapped in a local minimum only if that point is a minimum in all dimensions\n",
    "\n",
    "In an extremely high-dimensional space, there might be very few local minima"
   ]
  },
  {
   "cell_type": "markdown",
   "metadata": {},
   "source": [
    "### What to do about it?\n",
    "When model performance is good, don't worry about local minima\n",
    "\n",
    "__One Possible solution__: Re-train the model many times using different random weights (different starting locations on the loss landscape) and pick the model that does best.\n",
    "\n",
    "__Another Possible solution__: Increase the dimensionality (complexity) of the model to have fewer local minima"
   ]
  }
 ],
 "metadata": {
  "language_info": {
   "name": "python"
  }
 },
 "nbformat": 4,
 "nbformat_minor": 2
}
