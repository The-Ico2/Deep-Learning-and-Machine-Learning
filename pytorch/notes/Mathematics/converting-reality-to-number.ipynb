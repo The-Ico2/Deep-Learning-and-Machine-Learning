{
 "cells": [
  {
   "cell_type": "markdown",
   "metadata": {},
   "source": [
    "# Converting Reality to Numbers\n",
    "This document will cover:\n",
    "- How to represent real-world outcomes using numbers\n",
    "- The difference between \"Dummy-coding\" and \"one-hot encoding.\""
   ]
  },
  {
   "cell_type": "markdown",
   "metadata": {},
   "source": [
    "### Two Types of Reality\n",
    "|Continuous|Categorical|\n",
    "|:--:|:--:|\n",
    "|Numerical|Discrete|\n",
    "|Many (possibly infinite) distinct values|Limited (typically a few) distinct values|\n",
    "|Examples: height, exam, scores, income, review score|Examples: landscape (sea vs. mountain), picture identity (cat or dog), disease diagnosis|"
   ]
  },
  {
   "cell_type": "markdown",
   "metadata": {},
   "source": [
    "### Representing Categorical Data\n",
    "|Dummy-coding|One-hot encoding|\n",
    "|:--:|:--:|\n",
    "|0 or 1 (false or true)|0 or 1 per category|\n",
    "|Creates a single vector|Creates a matrix|\n",
    "|Examples: exam(pass/fail), house(sold/market), fraud detection|Examples: image recognition, hand-written letter recognition|\n"
   ]
  }
 ],
 "metadata": {
  "language_info": {
   "name": "python"
  }
 },
 "nbformat": 4,
 "nbformat_minor": 2
}
