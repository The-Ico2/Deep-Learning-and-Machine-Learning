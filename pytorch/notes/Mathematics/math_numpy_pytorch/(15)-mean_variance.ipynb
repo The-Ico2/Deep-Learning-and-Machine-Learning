{
 "cells": [
  {
   "cell_type": "markdown",
   "metadata": {},
   "source": [
    "# Mean and Variance\n",
    "This document will cover:\n",
    "- The definition of \"average\"\n",
    "- The definition and interpretation of \"variance\""
   ]
  },
  {
   "cell_type": "markdown",
   "metadata": {},
   "source": [
    "### Mean (a.k.a arithmetic mean a.k.a average)\n",
    "|Mean is Suitable for:|\n",
    "|:-:|\n",
    "|Roughly normall distributred data|\n",
    "|__Suitable Data Types:__|\n",
    "|Interval, Ratio|"
   ]
  },
  {
   "cell_type": "code",
   "execution_count": 19,
   "metadata": {},
   "outputs": [
    {
     "name": "stdout",
     "output_type": "stream",
     "text": [
      "Val1:  [-1.67758632  0.28782599 -1.47982588  1.14043772 -0.62430345  0.44212995]\n",
      "Mean:  -0.31855366648934336 \n",
      "\n",
      "Val2:  tensor([ 0.1058, -0.2286, -0.2688,  0.8862, -0.0327])\n",
      "Mean:  tensor(0.0924)\n"
     ]
    }
   ],
   "source": [
    "import torch\n",
    "import numpy as np\n",
    "\n",
    "\n",
    "val1 = np.random.randn(6)\n",
    "val2 = torch.randn(5)\n",
    "# Numpy\n",
    "# For Mean you can use np.mean(val) or np.sum(val) / n\n",
    "print('Val1: ', val1)\n",
    "print('Mean: ', np.mean(val1), '\\n')\n",
    "\n",
    "# Pytorch\n",
    "# For Mean you can use torch.mean(val) or torch.sum(val) / n\n",
    "print('Val2: ', val2)\n",
    "print('Mean: ', torch.mean(val2))"
   ]
  },
  {
   "cell_type": "markdown",
   "metadata": {},
   "source": [
    "### Variance\n",
    "|Variance is Suitable for:|\n",
    "|:-:|\n",
    "|Any Distribution|\n",
    "|__Suitable Data Types:__|\n",
    "|Numerical, Ordinal(but requires mean...)|\n",
    "\n",
    "Standard Deviation is the square-root of variance"
   ]
  },
  {
   "cell_type": "code",
   "execution_count": 32,
   "metadata": {},
   "outputs": [
    {
     "name": "stdout",
     "output_type": "stream",
     "text": [
      "Val1:  [ 0.94383452 -1.11585264  1.39266267  0.30663953 -1.89396738 -0.64517587]\n",
      "Mean .var:  1.600441797029156 \n",
      "\n",
      "Mean:  1.600441797029156 \n",
      "\n",
      "Val2:  tensor([-0.0040, -0.7174,  0.5497,  1.3822, -1.5661])\n",
      "Mean .var:  tensor(1.2887)\n",
      "Mean:  tensor(1.2887) \n",
      "\n"
     ]
    }
   ],
   "source": [
    "import torch\n",
    "import numpy as np\n",
    "\n",
    "val3 = np.random.randn(6)\n",
    "val4 = torch.randn(5)\n",
    "# Numpy\n",
    "# For Mean you can use np.var(val, ddof=1) or (1/(n-1)) * np.sum( (x-mean)**2 )\n",
    "print('Val1: ', val3)\n",
    "print('Mean .var: ', np.var(val3, ddof=1), '\\n')\n",
    "print('Mean: ', (1/(len(val3)-1)) * np.sum( (val3-np.mean(val3))**2 ), '\\n')\n",
    "\n",
    "# Pytorch\n",
    "# For Mean you can use torch.var(val) or (1/(n-1)) * torch.sum( (x-mean)**2 )\n",
    "print('Val2: ', val4)\n",
    "print('Mean .var: ', torch.var(val4))\n",
    "print('Mean: ', (1/(len(val4)-1)) * torch.sum( (val4-torch.mean(val4))**2 ), '\\n')"
   ]
  }
 ],
 "metadata": {
  "kernelspec": {
   "display_name": "Python 3",
   "language": "python",
   "name": "python3"
  },
  "language_info": {
   "codemirror_mode": {
    "name": "ipython",
    "version": 3
   },
   "file_extension": ".py",
   "mimetype": "text/x-python",
   "name": "python",
   "nbconvert_exporter": "python",
   "pygments_lexer": "ipython3",
   "version": "3.11.5"
  }
 },
 "nbformat": 4,
 "nbformat_minor": 2
}
