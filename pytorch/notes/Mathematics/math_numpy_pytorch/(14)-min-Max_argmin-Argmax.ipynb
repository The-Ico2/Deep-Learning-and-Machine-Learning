{
 "cells": [
  {
   "cell_type": "markdown",
   "metadata": {},
   "source": [
    "# Min/Max and argmin/argmax\n",
    "this document will cover:\n",
    "- The minimum and maximum\n",
    "- The \"argument\" of the min/max functions.\n",
    "- How to interpret the output of argmin/max functions."
   ]
  },
  {
   "cell_type": "markdown",
   "metadata": {},
   "source": [
    "### Min/Max\n",
    "The Min and Max functions will return the minimum and maximum value in an Array, Matrix, Tensor.\n",
    "\n",
    "##### Ex:"
   ]
  },
  {
   "cell_type": "code",
   "execution_count": 32,
   "metadata": {},
   "outputs": [
    {
     "name": "stdout",
     "output_type": "stream",
     "text": [
      "Pytorch: \n",
      "\n",
      "Tensor:  tensor([ 0.2296, -0.1602, -1.3177, -0.2086,  0.0282,  1.4687])\n",
      "Value Min:  tensor(-1.3177)\n",
      "Value Max:  tensor(1.4687) \n",
      "\n",
      "Numpy: \n",
      "\n",
      "Array:  [-1.745825   -0.05946088  2.02985419  0.91170058 -0.10525551  0.53257727]\n",
      "Value Min:  -1.7458249974990443\n",
      "Value Max:  2.029854186691836\n"
     ]
    }
   ],
   "source": [
    "import torch\n",
    "import numpy as np\n",
    "\n",
    "# Pytorch:\n",
    "list1 = torch.randn(6)\n",
    "print('Pytorch:', '\\n')\n",
    "print('Tensor: ', list1)\n",
    "print('Value Min: ',torch.min(list1))\n",
    "print('Value Max: ',torch.max(list1), '\\n')\n",
    "\n",
    "# Numpy:\n",
    "list2 = np.random.randn(6)\n",
    "print('Numpy:', '\\n')\n",
    "print('Array: ', list2)\n",
    "print('Value Min: ',np.min(list2))\n",
    "print('Value Max: ',np.max(list2))"
   ]
  },
  {
   "cell_type": "markdown",
   "metadata": {},
   "source": [
    "### argmin/argmax\n",
    "On the other hand, argmin and argmax will return the position/index of the smallest/largest values\n",
    "\n",
    "##### Ex:"
   ]
  },
  {
   "cell_type": "code",
   "execution_count": 33,
   "metadata": {},
   "outputs": [
    {
     "name": "stdout",
     "output_type": "stream",
     "text": [
      "Pytorch: \n",
      "\n",
      "Tensor:  tensor([-0.6028, -0.2785, -1.2115,  0.4033, -0.5079, -0.1757])\n",
      "Index Min:  tensor(2)\n",
      "Index Max:  tensor(3) \n",
      "\n",
      "Numpy: \n",
      "\n",
      "Array:  [ 1.66274589 -1.05060645  1.38667536  1.61968023 -1.00263318  1.30423125]\n",
      "Index Min:  1\n",
      "Index Max:  0\n"
     ]
    }
   ],
   "source": [
    "import torch\n",
    "import numpy as np\n",
    "\n",
    "# Pytorch:\n",
    "list1 = torch.randn(6)\n",
    "print('Pytorch:', '\\n')\n",
    "print('Tensor: ', list1)\n",
    "print('Index Min: ',torch.argmin(list1))\n",
    "print('Index Max: ',torch.argmax(list1), '\\n')\n",
    "\n",
    "# Numpy:\n",
    "list2 = np.random.randn(6)\n",
    "print('Numpy:', '\\n')\n",
    "print('Array: ', list2)\n",
    "print('Index Min: ', np.argmin(list2))\n",
    "print('Index Max: ',np.argmax(list2))"
   ]
  },
  {
   "cell_type": "markdown",
   "metadata": {},
   "source": [
    "### Min/Max -- Matrices:"
   ]
  },
  {
   "cell_type": "code",
   "execution_count": 47,
   "metadata": {},
   "outputs": [
    {
     "name": "stdout",
     "output_type": "stream",
     "text": [
      "Pytorch: \n",
      "\n",
      "Tensor:  tensor([[-0.2355, -0.9604],\n",
      "        [ 2.2181,  1.7943]])\n",
      "Value Min:  tensor(-0.9604)\n",
      "Value Max/Column:  torch.return_types.max(\n",
      "values=tensor([2.2181, 1.7943]),\n",
      "indices=tensor([1, 1]))\n",
      "Value Min/Row:  torch.return_types.min(\n",
      "values=tensor([-0.9604,  1.7943]),\n",
      "indices=tensor([1, 1]))\n",
      "Numpy: \n",
      "\n",
      "ND Array:  [[-0.05142061  1.23665807]\n",
      " [ 0.75377873  0.92059891]] \n",
      "\n",
      "Value Min:  -0.05142061468758013\n",
      "Value Max/Column:  [0.75377873 1.23665807]\n",
      "Value Min/Row:  [-0.05142061  0.75377873] \n",
      "\n"
     ]
    }
   ],
   "source": [
    "import torch\n",
    "import numpy as np\n",
    "\n",
    "# Pytorch:\n",
    "list1 = torch.randn(2, 2)\n",
    "print('Pytorch:', '\\n')\n",
    "print('Tensor: ', list1)\n",
    "\n",
    "print('Value Min: ',torch.min(list1))\n",
    "print('Value Max/Column: ',torch.max(list1, axis=0))\n",
    "print('Value Min/Row: ',torch.min(list1, axis=1))\n",
    "\n",
    "# Numpy:\n",
    "list2 = np.random.randn(2, 2)\n",
    "print('Numpy:', '\\n')\n",
    "print('ND Array: ', list2, '\\n')\n",
    "\n",
    "print('Value Min: ',np.min(list2))\n",
    "print('Value Max/Column: ',np.max(list2, axis=0))\n",
    "print('Value Min/Row: ',np.min(list2, axis=1), '\\n')"
   ]
  },
  {
   "cell_type": "markdown",
   "metadata": {},
   "source": [
    "### Argmin/Argmax -- Matrices:"
   ]
  },
  {
   "cell_type": "code",
   "execution_count": 49,
   "metadata": {},
   "outputs": [
    {
     "name": "stdout",
     "output_type": "stream",
     "text": [
      "Pytorch: \n",
      "\n",
      "Tensor:  tensor([[ 0.0609, -0.6128],\n",
      "        [-1.6175, -0.9996]])\n",
      "Index Min:  tensor(2)\n",
      "Index Max/Column:  tensor([0, 0])\n",
      "Index Min/Row:  tensor([1, 0])\n",
      "Numpy: \n",
      "\n",
      "ND Array:  [[-1.20564466  1.99532596]\n",
      " [ 1.04737617  1.75502553]] \n",
      "\n",
      "Index Min:  0\n",
      "Index Max/Column:  [1 0]\n",
      "Index Min/Row:  [0 0] \n",
      "\n"
     ]
    }
   ],
   "source": [
    "import torch\n",
    "import numpy as np\n",
    "\n",
    "# Pytorch:\n",
    "list1 = torch.randn(2, 2)\n",
    "print('Pytorch:', '\\n')\n",
    "print('Tensor: ', list1)\n",
    "\n",
    "print('Index Min: ',torch.argmin(list1))\n",
    "print('Index Max/Column: ',torch.argmax(list1, axis=0))\n",
    "print('Index Min/Row: ',torch.argmin(list1, axis=1))\n",
    "\n",
    "# Numpy:\n",
    "list2 = np.random.randn(2, 2)\n",
    "print('Numpy:', '\\n')\n",
    "print('ND Array: ', list2, '\\n')\n",
    "\n",
    "print('Index Min: ',np.argmin(list2))\n",
    "print('Index Max/Column: ',np.argmax(list2, axis=0))\n",
    "print('Index Min/Row: ',np.argmin(list2, axis=1), '\\n')"
   ]
  }
 ],
 "metadata": {
  "kernelspec": {
   "display_name": "Python 3",
   "language": "python",
   "name": "python3"
  },
  "language_info": {
   "codemirror_mode": {
    "name": "ipython",
    "version": 3
   },
   "file_extension": ".py",
   "mimetype": "text/x-python",
   "name": "python",
   "nbconvert_exporter": "python",
   "pygments_lexer": "ipython3",
   "version": "3.11.5"
  }
 },
 "nbformat": 4,
 "nbformat_minor": 2
}
