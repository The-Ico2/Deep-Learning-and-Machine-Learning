{
 "cells": [
  {
   "cell_type": "code",
   "execution_count": 2,
   "metadata": {},
   "outputs": [],
   "source": [
    "# Linear Algebra Terminology\n",
    "import torch\n",
    "scalar = torch.Tensor(7)\n",
    "vector = torch.Tensor([-1, 0, 1])\n",
    "metrix = torch.Tensor([\n",
    "    [-1, 0, 2, 8],\n",
    "    [0, 1, 4, 4],\n",
    "    [1, 4, 9, 1]\n",
    "])\n",
    "tensor = torch.Tensor([\n",
    "    [\n",
    "        [-1, 0, 2, 8],\n",
    "        [0, 1, 4, 4],\n",
    "        [1, 4, 9, 1]\n",
    "    ],\n",
    "    [\n",
    "        [-1, 0, 2, 8],\n",
    "        [0, 1, 4, 4],\n",
    "        [1, 4, 9, 1]\n",
    "    ],\n",
    "    [\n",
    "        [-1, 0, 2, 8],\n",
    "        [0, 1, 4, 4],\n",
    "        [1, 4, 9, 1]\n",
    "    ]\n",
    "])"
   ]
  },
  {
   "cell_type": "markdown",
   "metadata": {},
   "source": [
    "### Storing images on Computers\n",
    "Grayscale images are saved as matrices on a computer because each value will define how light or dark a pixel is.\n",
    "\n",
    "Colored images are saved as Tensors because each value in each layer defines how much Red, Green, or Blue should be present in each pixel"
   ]
  },
  {
   "cell_type": "markdown",
   "metadata": {},
   "source": [
    "### Data Types: A disambiguation\n",
    "|\"Data Type\" in computer science|\"Data Type\" in statistics|\n",
    "|:--:|:--:|\n",
    "|Format of data storage|Category of data|\n",
    "|implications: operation, storage space|implications: appropriate statistical procedures|\n",
    "|examples: floating-point, boolean, string|examples: categorical, numerical, ordinal, ration|"
   ]
  },
  {
   "cell_type": "markdown",
   "metadata": {},
   "source": [
    "|Math|Numpy|PyTorch|\n",
    "|--|--|--|\n",
    "|Scalar|Array|Tensor|\n",
    "|Vector|Array|Tensor|\n",
    "|Matrix|ND array|Tensor|\n",
    "|Tensor|ND array|Tensor|"
   ]
  }
 ],
 "metadata": {
  "kernelspec": {
   "display_name": "Python 3",
   "language": "python",
   "name": "python3"
  },
  "language_info": {
   "codemirror_mode": {
    "name": "ipython",
    "version": 3
   },
   "file_extension": ".py",
   "mimetype": "text/x-python",
   "name": "python",
   "nbconvert_exporter": "python",
   "pygments_lexer": "ipython3",
   "version": "3.11.5"
  }
 },
 "nbformat": 4,
 "nbformat_minor": 2
}
