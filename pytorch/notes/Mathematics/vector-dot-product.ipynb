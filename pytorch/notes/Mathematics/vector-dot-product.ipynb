{
 "cells": [
  {
   "cell_type": "markdown",
   "metadata": {},
   "source": [
    "# Vector Dot Product\n",
    "this document will cover:\n",
    "- Various Notations for the dot product\n",
    "- How to compute the dot product in vectore and matrices\n",
    "- Why the dot product is so important in human civilization"
   ]
  },
  {
   "cell_type": "code",
   "execution_count": 1,
   "metadata": {},
   "outputs": [
    {
     "name": "stdout",
     "output_type": "stream",
     "text": [
      "tensor(7)\n"
     ]
    }
   ],
   "source": [
    "import torch\n",
    "result = torch.dot(torch.tensor([2, 3]), torch.tensor([2, 1]))\n",
    "print(result)  # Output: tensor(7)"
   ]
  },
  {
   "cell_type": "code",
   "execution_count": 4,
   "metadata": {},
   "outputs": [],
   "source": [
    "import numpy as np\n",
    "import torch"
   ]
  },
  {
   "cell_type": "markdown",
   "metadata": {},
   "source": [
    "### Using numpy"
   ]
  },
  {
   "cell_type": "code",
   "execution_count": 5,
   "metadata": {},
   "outputs": [
    {
     "name": "stdout",
     "output_type": "stream",
     "text": [
      "-2\n",
      "-2\n"
     ]
    }
   ],
   "source": [
    "# create a vector\n",
    "nv1 = np.array([1, 2, 3, 4])\n",
    "nv2 = np.array([0, 1, 0, -1])\n",
    "\n",
    "# dot product via function\n",
    "print(np.dot(nv1, nv2))\n",
    "\n",
    "# dot product via computation\n",
    "print(np.sum(nv1 * nv2))"
   ]
  },
  {
   "cell_type": "markdown",
   "metadata": {},
   "source": [
    "### Using pytorch"
   ]
  },
  {
   "cell_type": "code",
   "execution_count": 6,
   "metadata": {},
   "outputs": [
    {
     "name": "stdout",
     "output_type": "stream",
     "text": [
      "tensor(-2.)\n",
      "tensor(-2.)\n"
     ]
    }
   ],
   "source": [
    "# create a vector\n",
    "tv1 = torch.Tensor([1, 2, 3, 4])\n",
    "tv2 = torch.Tensor([0, 1, 0, -1])\n",
    "\n",
    "# dot product via function\n",
    "print(torch.dot(tv1, tv2))\n",
    "\n",
    "# dot product via computation\n",
    "print(torch.sum(tv1 * tv2))"
   ]
  },
  {
   "cell_type": "markdown",
   "metadata": {},
   "source": [
    "### Interpretation of the dot product\n",
    "A single number that reflects the commonalities between two objects (vectors, matrices, tensors, signals, images).\n",
    "\n",
    "### Application of the dot product\n",
    "The dot product is the computational backbone for many operations:\n",
    "- Statistics: Correlation, Least-Squares, Entropy, PCA\n",
    "- Signal processing: Fourier Transform, Filtering\n",
    "- Science: Geometry, Physics, Mechanics\n",
    "- Linear Algebra: Projection, Transformation, Multiplication\n",
    "- Deep Learning: Convolution, matrix multiplication, Gram matrix (used in style transfer)"
   ]
  }
 ],
 "metadata": {
  "kernelspec": {
   "display_name": "Python 3",
   "language": "python",
   "name": "python3"
  },
  "language_info": {
   "codemirror_mode": {
    "name": "ipython",
    "version": 3
   },
   "file_extension": ".py",
   "mimetype": "text/x-python",
   "name": "python",
   "nbconvert_exporter": "python",
   "pygments_lexer": "ipython3",
   "version": "3.11.5"
  }
 },
 "nbformat": 4,
 "nbformat_minor": 2
}
