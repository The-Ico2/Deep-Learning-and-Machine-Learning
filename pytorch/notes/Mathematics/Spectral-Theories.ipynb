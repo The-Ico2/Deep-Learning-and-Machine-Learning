{
 "cells": [
  {
   "cell_type": "markdown",
   "metadata": {},
   "source": [
    "# Spectral Theories in mathematics\n",
    "this document will cover:\n",
    "- What the term \"Spectral Theory\" means\n",
    "- Why Artificial Neural networks fit into spectral theory\n",
    "- The difference between \"complicated\" and \"complex\"\n",
    "- Why deep learning is easy, complicated, and complex"
   ]
  },
  {
   "cell_type": "markdown",
   "metadata": {},
   "source": [
    "### General Idea of Spectral Theories\n",
    "Starting with something complicated and you break it up into smaller more simple components"
   ]
  },
  {
   "cell_type": "markdown",
   "metadata": {},
   "source": [
    "### Spectral Theories and Deep Learning\n",
    "Each Node in a Layer (Artificial Neuron) is an example of Spectral Theory. \n",
    "\n",
    "The larger, more complex model is broken down into smaller, easier to understand math functions.\n",
    "Complicated and Complex are often used interchangibly while they are very different\n",
    "| Complicated | Complex |\n",
    "| :--: | :--: |\n",
    "| Lots of Parts | Few or Many Parts |\n",
    "| Linear or Few Non-Linearities | Many Non-Linearities |\n",
    "| Intuitive and/or understandable | Counter-Intuitive, difficult, or impossible to understand |\n",
    "| Examples: Cars, Phones, SVDs | Examples: Chaos, Biology, Conway's Game of Life |"
   ]
  },
  {
   "cell_type": "markdown",
   "metadata": {},
   "source": [
    "### Deep Learning: Simple, Complicated, Complex\n",
    "__Simple__ because its made of \"_simple_\", easy math (mostly)\n",
    "\n",
    "__Complicated__ because it contains many many parts\n",
    "\n",
    "__Complex__ because of myriad nonlinearities and because it is unintuitive and difficult to understand"
   ]
  }
 ],
 "metadata": {
  "language_info": {
   "name": "python"
  }
 },
 "nbformat": 4,
 "nbformat_minor": 2
}
