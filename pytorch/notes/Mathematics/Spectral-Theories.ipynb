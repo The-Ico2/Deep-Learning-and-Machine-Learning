{
 "cells": [
  {
   "cell_type": "markdown",
   "metadata": {},
   "source": [
    "# Spectral Theories in mathematics\n",
    "this document will cover:\n",
    "- What the term \"Spectral Theory\" means\n",
    "- Why Artificial Neural networks fit into spectral theory\n",
    "- The difference between \"complicated\" and \"complex\"\n",
    "- Why deep learning is easy, complicated, and complex"
   ]
  }
 ],
 "metadata": {
  "language_info": {
   "name": "python"
  }
 },
 "nbformat": 4,
 "nbformat_minor": 2
}
