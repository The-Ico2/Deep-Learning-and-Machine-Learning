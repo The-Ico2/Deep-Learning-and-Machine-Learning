{
 "cells": [
  {
   "cell_type": "markdown",
   "metadata": {},
   "source": [
    "# Parametric Experiments on Gradient Descent\n",
    "This document will cover:\n",
    "- How to setup and run parametric experiments\n",
    "- Understanding the importance of starting values, learning rate, and traingin iterations, in gradient descent\n",
    "- Seeing again that gradient descent is great, but not perfect"
   ]
  },
  {
   "cell_type": "markdown",
   "metadata": {},
   "source": [
    "### our experiments\n",
    "- repeat the model from the 1D video\n",
    "- conduct a one-variable experiment using:\n",
    "    1) Initial Value\n",
    "    2) Learning Rate\n",
    "- Conducting a two-variable experiment using:\n",
    "    1) learning rate AND traingin epochs"
   ]
  }
 ],
 "metadata": {
  "language_info": {
   "name": "python"
  }
 },
 "nbformat": 4,
 "nbformat_minor": 2
}
