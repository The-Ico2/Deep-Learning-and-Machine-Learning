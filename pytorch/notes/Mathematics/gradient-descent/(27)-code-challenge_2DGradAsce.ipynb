{
 "cells": [
  {
   "cell_type": "markdown",
   "metadata": {},
   "source": [
    "# CodeChallenge: 2D Gradient Ascent\n",
    "This document will cover:\n",
    "- Get a bit more experience wit thinking about gradient descent\n",
    "- Learrn how to optimize to a maximum"
   ]
  },
  {
   "cell_type": "code",
   "execution_count": null,
   "metadata": {},
   "outputs": [],
   "source": [
    "import numpy as np\n",
    "import matplotlib.pyplot as plt\n",
    "import sympy as sym\n",
    "\n",
    "from IPython import display\n",
    "display.set_matplotlib_formats('svg')"
   ]
  },
  {
   "cell_type": "code",
   "execution_count": null,
   "metadata": {},
   "outputs": [],
   "source": [
    "# the \"peaks\" function\n",
    "def peaks(x,y):\n",
    "    # espand to a 2D mesh\n",
    "    x,y = np.meshgrid(x,y)\n",
    "\n",
    "    z = 3*(1-x)**2 * np.exp(-(x**2) - (y+1)**2) \\\n",
    "        - 10*(x/5 - x**3 - y**5) * np.exp(-x**2-y**2) \\\n",
    "        - 1/3*np.exp(-(x+1)**2 - y**2)\n",
    "    return z"
   ]
  },
  {
   "cell_type": "code",
   "execution_count": null,
   "metadata": {},
   "outputs": [],
   "source": [
    "# create the linspace\n",
    "x = np.linspace(-3, 3, 201)\n",
    "y = np.linspace(-3, 3, 201)\n",
    "\n",
    "Z = peaks(x,y)\n",
    "\n",
    "# test plot\n",
    "plt.imshow(Z,extent=[x[0],x[-1],y[0],y[-1]],vmin=-5,vmax=5,origin='lower')\n",
    "plt.show()"
   ]
  },
  {
   "cell_type": "code",
   "execution_count": null,
   "metadata": {},
   "outputs": [],
   "source": [
    "# Create Derivative Functions using sympy\n",
    "sx,sy = sym.symbols('sx,sy')\n",
    "sZ = 3*(1-sx)**2 * sym.exp(-(sx**2) - (sy+1)**2) \\\n",
    "    - 10*(sx/5 - sx**3 - sy**5) * sym.exp(-sx**2-sy**2) \\\n",
    "    - 1/3*sym.exp(-(sx+1)**2 - sy**2)\n",
    "\n",
    "# create functions from the sympy-computed derivatives\n",
    "df_x = sym.lambdify( (sx,sy),sym.diff(sZ,sx),'sympy' )\n",
    "df_y = sym.lambdify( (sx,sy),sym.diff(sZ,sy),'sympy' )\n",
    "\n",
    "df_x(1,1).evalf()"
   ]
  },
  {
   "cell_type": "code",
   "execution_count": null,
   "metadata": {},
   "outputs": [],
   "source": [
    "# Random Starting Point (uniform between -2 and +2)\n",
    "localmin = np.random.rand(2)*4-2 # also try specifying coordinates\n",
    "strtpnt = localmin[:] # make a copy, not re-assign\n",
    "\n",
    "# Learning Parameters\n",
    "learning_rate = .01\n",
    "training_epochs = 1000\n",
    "\n",
    "# run through training\n",
    "trajectory = np.zeros((training_epochs, 2))\n",
    "for i in range(training_epochs):\n",
    "    grad = np.array([ df_x(localmin[0],localmin[1]).evalf(), df_y(localmin[0],localmin[1]).evalf()])\n",
    "    localmin = localmin - learning_rate*grad # add _ or [: to change a variable in-place]\n",
    "    trajectory[i,:] = localmin\n",
    "\n",
    "\n",
    "print(localmin)\n",
    "print(strtpnt)"
   ]
  },
  {
   "cell_type": "code",
   "execution_count": null,
   "metadata": {},
   "outputs": [],
   "source": [
    "plt.imshow(Z,extent=[x[0],x[-1],y[0],y[-1]],vmin=-5,vmax=5,origin='lower')\n",
    "plt.plot(strtpnt[0],strtpnt[1],'bs')\n",
    "plt.plot(localmin[0],localmin[1],'ro')\n",
    "plt.plot(trajectory[:,0],trajectory[:,1],'r')\n",
    "plt.legend(['rnd start','local min'])\n",
    "plt.colorbar()\n",
    "plt.show()"
   ]
  }
 ],
 "metadata": {
  "kernelspec": {
   "display_name": "Python 3",
   "language": "python",
   "name": "python3"
  },
  "language_info": {
   "name": "python",
   "version": "3.11.5"
  }
 },
 "nbformat": 4,
 "nbformat_minor": 2
}
