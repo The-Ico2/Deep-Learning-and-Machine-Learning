{
 "cells": [
  {
   "cell_type": "markdown",
   "metadata": {},
   "source": [
    "# Vanishing and Exploding Gradients\n",
    "This document will cover:\n",
    "- About the vanishing and exploding gradient problems in Deep Learning (and backprop-optimization more generally)\n",
    "- A few strategies for avoiding these problems"
   ]
  },
  {
   "cell_type": "markdown",
   "metadata": {},
   "source": [
    "### Define (Vanishing and Exploding Gradient)\n",
    "- Vanishing Gradient:\n",
    "    - Weights don't change - No learning. Problematic for deep networks\n",
    "- Exploding Gradient:\n",
    "    - Weights chagnge wildly - Bad solutions"
   ]
  }
 ],
 "metadata": {
  "language_info": {
   "name": "python"
  }
 },
 "nbformat": 4,
 "nbformat_minor": 2
}
