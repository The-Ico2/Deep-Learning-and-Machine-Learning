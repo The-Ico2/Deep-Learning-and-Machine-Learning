{
 "cells": [
  {
   "cell_type": "markdown",
   "metadata": {},
   "source": [
    "# Matrix Multiplication\n",
    "This document covers:\n",
    "- How to refer to matrix sizes.\n",
    "- The rule for matrix multiplication validity.\n",
    "- One of the ways to conceptualize and implement matrix multiplication"
   ]
  },
  {
   "cell_type": "markdown",
   "metadata": {},
   "source": [
    "### Standard matrix multiplication: The rules for validity\n",
    "Matices inner dimension must match\n",
    "\n",
    "- M x N\n",
    "- N x K\n",
    "    - As shown the N in each LW dimensions are the same\n",
    "    - Rows in matrix1 === columns in matrix2\n",
    "\n",
    "Ex1:\n",
    "E1 = 5x2 * 2x7\n",
    "the inner dimensions are the same which mean we can do matrix multiplication on them\n",
    "\n",
    "Ex2:\n",
    "E2 = 2x7 * 5x2\n",
    "The inner dimensions are not the same which means we CANNOT do matrix multiplication on them\n",
    "\n",
    "Ex3:\n",
    "E3 = 5x7 * 5x2\n",
    "The inner dimensions are not the same which means we CANNOT do matrix multiplication on them\n",
    "    \n",
    "    Note: If we transpose the 5x7 array (in Ex3) it would make the inner dimensions the same allowing for matrix multiplication"
   ]
  },
  {
   "cell_type": "code",
   "execution_count": 19,
   "metadata": {},
   "outputs": [
    {
     "name": "stdout",
     "output_type": "stream",
     "text": [
      "torch.Size([2, 4])\n",
      "torch.Size([2, 4])\n",
      "(2, 4)\n",
      "tensor([[-2.3100,  0.3300,  2.0900, -2.6900],\n",
      "        [ 0.6000, -0.0200,  0.1400,  0.3300],\n",
      "        [-0.2700, -0.0700, -1.0100,  0.3600],\n",
      "        [-0.2600,  0.0100, -0.0700, -0.1400]])\n",
      "tensor([[-1.3600,  6.1100,  2.8700, -6.4900],\n",
      "        [ 0.5900, -1.3000, -0.4500,  1.2600],\n",
      "        [-0.5900,  0.2000, -0.2000, -0.0100],\n",
      "        [-0.2600,  0.5600,  0.1900, -0.5400]], dtype=torch.float64)\n"
     ]
    }
   ],
   "source": [
    "import torch\n",
    "import numpy as np\n",
    "tm1 = torch.randn(2, 4) # Pytorch Matrix\n",
    "tm2 = torch.randn(2, 4) # Pytorch Matrix\n",
    "np1 = np.random.randn(2, 4) # Numpy Matrix\n",
    "\n",
    "print(tm1.shape)\n",
    "print(tm2.shape)\n",
    "print(np1.shape)\n",
    "\n",
    "# print(np.round(tm1 @ tm2, 2)) <-- Returns an Error\n",
    "print(np.round(tm1.T @ tm2, 2))\n",
    "print(np.round(tm1.T @ np1, 2))"
   ]
  }
 ],
 "metadata": {
  "kernelspec": {
   "display_name": "Python 3",
   "language": "python",
   "name": "python3"
  },
  "language_info": {
   "codemirror_mode": {
    "name": "ipython",
    "version": 3
   },
   "file_extension": ".py",
   "mimetype": "text/x-python",
   "name": "python",
   "nbconvert_exporter": "python",
   "pygments_lexer": "ipython3",
   "version": "3.11.5"
  }
 },
 "nbformat": 4,
 "nbformat_minor": 2
}
