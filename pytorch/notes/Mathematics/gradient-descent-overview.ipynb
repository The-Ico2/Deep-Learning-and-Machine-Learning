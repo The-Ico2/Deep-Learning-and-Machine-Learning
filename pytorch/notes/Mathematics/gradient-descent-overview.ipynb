{
 "cells": [
  {
   "cell_type": "markdown",
   "metadata": {},
   "source": [
    "# Overview of Gradient Descent\n",
    "This document will cover:\n",
    "- What \"gradient descent\" means and why we need it\n",
    "- The gradient descent algorithm"
   ]
  },
  {
   "cell_type": "markdown",
   "metadata": {},
   "source": [
    "### Gradient Descent: Theory and motivation\n",
    "How deep learning models learn:\n",
    "1) Guess a solution\n",
    "2) Compute the error (mistakes)\n",
    "3) Learn from mistake and modify the parameters\n",
    "\n",
    "Need a mathematical description of the error \"landscape\" of the problema, and we need a way to find the minimum o f the landscape"
   ]
  },
  {
   "cell_type": "markdown",
   "metadata": {},
   "source": [
    "### Gradient Descent Algorithm\n",
    "- Initialize random guess of minimum\n",
    "- Loop over training iterations\n",
    "    - compute derivative at guess min\n",
    "    - update guess min is itself minus derivative scaled by learning rate"
   ]
  }
 ],
 "metadata": {
  "kernelspec": {
   "display_name": "Python 3",
   "language": "python",
   "name": "python3"
  },
  "language_info": {
   "codemirror_mode": {
    "name": "ipython",
    "version": 3
   },
   "file_extension": ".py",
   "mimetype": "text/x-python",
   "name": "python",
   "nbconvert_exporter": "python",
   "pygments_lexer": "ipython3",
   "version": "3.11.5"
  }
 },
 "nbformat": 4,
 "nbformat_minor": 2
}
