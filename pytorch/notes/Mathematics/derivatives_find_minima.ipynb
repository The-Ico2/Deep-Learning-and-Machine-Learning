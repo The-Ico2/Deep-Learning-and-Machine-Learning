{
 "cells": [
  {
   "cell_type": "markdown",
   "metadata": {},
   "source": [
    "# Derivatives Find Local Minima\n",
    "This document will cover:\n",
    "- The main purpose of derivatives in gradient descent\n",
    "- What \"minima\" and \"maxima\" are\n",
    "- How to distinguish local minima for local maxima"
   ]
  }
 ],
 "metadata": {
  "language_info": {
   "name": "python"
  }
 },
 "nbformat": 4,
 "nbformat_minor": 2
}
