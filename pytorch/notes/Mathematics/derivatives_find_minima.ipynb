{
 "cells": [
  {
   "cell_type": "markdown",
   "metadata": {},
   "source": [
    "# Derivatives Find Local Minima\n",
    "This document will cover:\n",
    "- The main purpose of derivatives in gradient descent\n",
    "- What \"minima\" and \"maxima\" are\n",
    "- How to distinguish local minima for local maxima"
   ]
  },
  {
   "cell_type": "markdown",
   "metadata": {},
   "source": [
    "### Minima and Maxima\n",
    "- Derivatives can tell us exactly where are minima and maxima points are\n",
    "    - Start with the function\n",
    "    - Compute its derivative\n",
    "    - set derivative equal to 0\n",
    "    - solve for x\n",
    "- Points where derivative is 0 are where the function is turning around going from positive to negative or negative to positive there is necessarily going to be a local extreme point (local maxima or local minima)\n",
    "\n",
    "- Minimal and Maxima have df=0\n",
    "- Minimal have df<0 to the left, and df>0 to the right\n",
    "- Maxima have df>0 to the left, and df<0 to the right\n",
    "- constant:\n",
    "    - \"Vanishing gradient\""
   ]
  }
 ],
 "metadata": {
  "language_info": {
   "name": "python"
  }
 },
 "nbformat": 4,
 "nbformat_minor": 2
}
