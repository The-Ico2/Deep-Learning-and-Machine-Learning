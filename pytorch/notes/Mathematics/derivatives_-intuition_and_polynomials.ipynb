{
 "cells": [
  {
   "cell_type": "markdown",
   "metadata": {},
   "source": [
    "# Derivatives: Intuition and Polynomials\n",
    "This Document will Cover:\n",
    "- Intuition of the derivatives (\"How things change\").\n",
    "- How to compute the derivative of a polynomial.\n",
    "\n",
    "(Note: The Derivative is the Slope of the function at any given point)"
   ]
  },
  {
   "cell_type": "markdown",
   "metadata": {},
   "source": [
    "### Why bother with derivatives\n",
    "- Derivatives point in the direction of increases and decreases in a mathematical function\n",
    "- In Deep Learning, the goal (e.g., classification) is represented as an error function. Thus, the best solution is the point with the smallest error.\n",
    "    - Find the specific parameters of the model that gives the smallest error and thus the highest accuracy\n",
    "- The derivatives tells us which way to \"move\" in that error landscape in order to find the optimal solution\n",
    "- Deep Learning wouldn't work without derivatives"
   ]
  },
  {
   "cell_type": "code",
   "execution_count": 3,
   "metadata": {},
   "outputs": [
    {
     "ename": "",
     "evalue": "",
     "output_type": "error",
     "traceback": [
      "\u001b[1;31mThe Kernel crashed while executing code in the current cell or a previous cell. \n",
      "\u001b[1;31mPlease review the code in the cell(s) to identify a possible cause of the failure. \n",
      "\u001b[1;31mClick <a href='https://aka.ms/vscodeJupyterKernelCrash'>here</a> for more info. \n",
      "\u001b[1;31mView Jupyter <a href='command:jupyter.viewOutput'>log</a> for further details."
     ]
    }
   ],
   "source": [
    "import torch\n",
    "import numpy as np\n",
    "import matplotlib.pyplot as plt\n",
    "\n",
    "# sympy = symbolic math in Python\n",
    "import sympy as sym\n",
    "import sympy.plotting.plot as symplot\n",
    "\n",
    "# create symbolic variable\n",
    "x = sym.symbols('x')\n",
    "\n",
    "# create a function\n",
    "fx = 2*x**2\n",
    "\n",
    "# compute its derivative\n",
    "df = sym.diff(fx, x)\n",
    "\n",
    "# print them\n",
    "print(fx)\n",
    "print(df)\n",
    "\n",
    "# plot them\n",
    "symplot(fx, (x, -4, 4), title='The function')\n",
    "plt.show()\n",
    "\n",
    "symplot(df, (x, -4, 4), title='Its derivative')\n",
    "plt.show()"
   ]
  }
 ],
 "metadata": {
  "kernelspec": {
   "display_name": "Python 3",
   "language": "python",
   "name": "python3"
  },
  "language_info": {
   "codemirror_mode": {
    "name": "ipython",
    "version": 3
   },
   "file_extension": ".py",
   "mimetype": "text/x-python",
   "name": "python",
   "nbconvert_exporter": "python",
   "pygments_lexer": "ipython3",
   "version": "3.11.5"
  }
 },
 "nbformat": 4,
 "nbformat_minor": 2
}
