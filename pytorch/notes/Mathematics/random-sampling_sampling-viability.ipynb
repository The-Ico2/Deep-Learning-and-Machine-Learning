{
 "cells": [
  {
   "cell_type": "markdown",
   "metadata": {},
   "source": [
    "# Sampling Variability\n",
    "This document will cover:\n",
    "- What random sampling means and why we need it\n",
    "- The variability in sampling and the problems it can cause"
   ]
  },
  {
   "cell_type": "markdown",
   "metadata": {},
   "source": [
    "### Sampling Variability: Definition\n",
    "Sampling Variability:\n",
    "Different samples from the same population can have different values of the same measurement\n",
    "\n",
    "Implication of sampling variability:\n",
    "A single measurement may be an unreliable estimate of a population parameter"
   ]
  },
  {
   "cell_type": "markdown",
   "metadata": {},
   "source": [
    "### Sources of sampling variability\n",
    "- __Natural Variation__:\n",
    "    - Often seen in biology (_Height, Weight_) and physics (_Earthquake Magnitude, number of stars per galaxy_)\n",
    "- __Measurement Noise__: \n",
    "    - The sensors are imperfect (_Electrical line noise, measuring nano-grams with a gram-precision scale_)\n",
    "- __Complex Systems__: \n",
    "    - Measuring some factors while ignoring others (_measuring height while ignoring age_)\n",
    "- __Stochasticity (randomness)__: \n",
    "    - The universe is a wild and unpredictable place (_photons hitting a camera lens_).\n",
    "\n",
    "\n"
   ]
  },
  {
   "cell_type": "markdown",
   "metadata": {},
   "source": [
    "#### What to do about sampling variability?\n",
    "Take many samples.\n",
    "\n",
    "Averaging together many samples will approximate the true population mean (_Law of Large Numbers_)"
   ]
  },
  {
   "cell_type": "markdown",
   "metadata": {},
   "source": [
    "# Why sampling variability is important in Deep Learning\n",
    "- Deep Learning models learn by examples\n",
    "- Non-random sampling can introduce systematic biases in Deep Learning Models\n",
    "-  Non-representative sample causes overfitting and limits generalizability"
   ]
  },
  {
   "cell_type": "code",
   "execution_count": 2,
   "metadata": {},
   "outputs": [
    {
     "name": "stdout",
     "output_type": "stream",
     "text": [
      "1.625\n",
      "2.6\n"
     ]
    },
    {
     "ename": "AttributeError",
     "evalue": "module 'numpy' has no attribute 'zeroes'",
     "output_type": "error",
     "traceback": [
      "\u001b[1;31m---------------------------------------------------------------------------\u001b[0m",
      "\u001b[1;31mAttributeError\u001b[0m                            Traceback (most recent call last)",
      "Cell \u001b[1;32mIn[2], line 25\u001b[0m\n\u001b[0;32m     22\u001b[0m nExpers \u001b[38;5;241m=\u001b[39m \u001b[38;5;241m10000\u001b[39m\n\u001b[0;32m     24\u001b[0m \u001b[38;5;66;03m# run the experiment!\u001b[39;00m\n\u001b[1;32m---> 25\u001b[0m sampleMeans \u001b[38;5;241m=\u001b[39m np\u001b[38;5;241m.\u001b[39mzeroes(nExpers)\n\u001b[0;32m     26\u001b[0m \u001b[38;5;28;01mfor\u001b[39;00m i \u001b[38;5;129;01min\u001b[39;00m \u001b[38;5;28mrange\u001b[39m(nExpers):\n\u001b[0;32m     27\u001b[0m     \u001b[38;5;66;03m# setp 1: draw a sample\u001b[39;00m\n\u001b[0;32m     28\u001b[0m     sample \u001b[38;5;241m=\u001b[39m np\u001b[38;5;241m.\u001b[39mrandom\u001b[38;5;241m.\u001b[39mchoice(x, size\u001b[38;5;241m=\u001b[39m\u001b[38;5;241m5\u001b[39m, replace\u001b[38;5;241m=\u001b[39m\u001b[38;5;28;01mTrue\u001b[39;00m)\n",
      "File \u001b[1;32mc:\\Users\\xande\\anaconda3\\Lib\\site-packages\\numpy\\__init__.py:333\u001b[0m, in \u001b[0;36m__getattr__\u001b[1;34m(attr)\u001b[0m\n\u001b[0;32m    330\u001b[0m     \u001b[38;5;124m\"\u001b[39m\u001b[38;5;124mRemoved in NumPy 1.25.0\u001b[39m\u001b[38;5;124m\"\u001b[39m\n\u001b[0;32m    331\u001b[0m     \u001b[38;5;28;01mraise\u001b[39;00m \u001b[38;5;167;01mRuntimeError\u001b[39;00m(\u001b[38;5;124m\"\u001b[39m\u001b[38;5;124mTester was removed in NumPy 1.25.\u001b[39m\u001b[38;5;124m\"\u001b[39m)\n\u001b[1;32m--> 333\u001b[0m \u001b[38;5;28;01mraise\u001b[39;00m \u001b[38;5;167;01mAttributeError\u001b[39;00m(\u001b[38;5;124m\"\u001b[39m\u001b[38;5;124mmodule \u001b[39m\u001b[38;5;132;01m{!r}\u001b[39;00m\u001b[38;5;124m has no attribute \u001b[39m\u001b[38;5;124m\"\u001b[39m\n\u001b[0;32m    334\u001b[0m                      \u001b[38;5;124m\"\u001b[39m\u001b[38;5;132;01m{!r}\u001b[39;00m\u001b[38;5;124m\"\u001b[39m\u001b[38;5;241m.\u001b[39mformat(\u001b[38;5;18m__name__\u001b[39m, attr))\n",
      "\u001b[1;31mAttributeError\u001b[0m: module 'numpy' has no attribute 'zeroes'"
     ]
    }
   ],
   "source": [
    "import numpy as np\n",
    "import matplotlib.pyplot as plt\n",
    "\n",
    "# create a list of number to compute the mean and variance of\n",
    "x = [1, 2, 4, 6, 5, 4, 0, -4, 5, -2, 6, 10, -9, 1, 3, -6]\n",
    "n = len(x)\n",
    "\n",
    "# compute the population mean\n",
    "popmean = np.mean(x)\n",
    "\n",
    "# compute a sample mean\n",
    "sample = np.random.choice(x, size=5, replace=True)\n",
    "sampmean = np.mean(sample)\n",
    "\n",
    "# Print them\n",
    "print(popmean)\n",
    "print(sampmean)\n",
    "\n",
    "# compute lost of sample means\n",
    "\n",
    "# number of experiments to run\n",
    "nExpers = 10000\n",
    "\n",
    "# run the experiment!\n",
    "sampleMeans = np.zeros(nExpers)\n",
    "for i in range(nExpers):\n",
    "    # setp 1: draw a sample\n",
    "    sample = np.random.choice(x, size=5, replace=True)\n",
    "\n",
    "    # step 2: copmute its mean\n",
    "    sampleMeans[i] = np.mean(sample)\n",
    "\n",
    "# show the result as a histogram\n",
    "plt.hist(sampleMeans, bins=40, density=True)\n",
    "plt.plot([popmean, popmean], [0, .3], 'm--')\n",
    "plt.ylabel('Count')\n",
    "plt.xlabel('Sample mean')\n",
    "plt.show()"
   ]
  }
 ],
 "metadata": {
  "kernelspec": {
   "display_name": "Python 3",
   "language": "python",
   "name": "python3"
  },
  "language_info": {
   "codemirror_mode": {
    "name": "ipython",
    "version": 3
   },
   "file_extension": ".py",
   "mimetype": "text/x-python",
   "name": "python",
   "nbconvert_exporter": "python",
   "pygments_lexer": "ipython3",
   "version": "3.11.5"
  }
 },
 "nbformat": 4,
 "nbformat_minor": 2
}
