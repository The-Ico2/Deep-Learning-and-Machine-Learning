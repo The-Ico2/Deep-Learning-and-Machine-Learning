{
 "cells": [
  {
   "cell_type": "markdown",
   "metadata": {},
   "source": [
    "# Sampling Variability\n",
    "This document will cover:\n",
    "- What random sampling means and why we need it\n",
    "- The variability in sampling and the problems it can cause"
   ]
  },
  {
   "cell_type": "markdown",
   "metadata": {},
   "source": [
    "### Sampling Variability: Definition\n",
    "Sampling Variability:\n",
    "Different samples from the same population can have different values of the same measurement\n",
    "\n",
    "Implication of sampling variability:\n",
    "A single measurement may be an unreliable estimate of a population parameter"
   ]
  },
  {
   "cell_type": "markdown",
   "metadata": {},
   "source": [
    "### Sources of sampling variability\n",
    "- __Natural Variation__:\n",
    "    - Often seen in biology (_Height, Weight_) and physics (_Earthquake Magnitude, number of stars per galaxy_)\n",
    "- __Measurement Noise__: \n",
    "    - The sensors are imperfect (_Electrical line noise, measuring nano-grams with a gram-precision scale_)\n",
    "- __Complex Systems__: \n",
    "    - Measuring some factors while ignoring others (_measuring height while ignoring age_)\n",
    "- __Stochasticity (randomness)__: \n",
    "    - The universe is a wild and unpredictable place (_photons hitting a camera lens_).\n",
    "\n",
    "\n"
   ]
  },
  {
   "cell_type": "markdown",
   "metadata": {},
   "source": [
    "#### What to do about sampling variability?\n",
    "Take many samples.\n",
    "\n",
    "Averaging together many samples will approximate the true population mean (_Law of Large Numbers_)"
   ]
  },
  {
   "cell_type": "markdown",
   "metadata": {},
   "source": [
    "# Why sampling variability is important in Deep Learning\n",
    "- Deep Learning models learn by examples\n",
    "- Non-random sampling can introduce systematic biases in Deep Learning Models\n",
    "-  Non-representative sample causes overfitting and limits generalizability"
   ]
  }
 ],
 "metadata": {
  "language_info": {
   "name": "python"
  }
 },
 "nbformat": 4,
 "nbformat_minor": 2
}
