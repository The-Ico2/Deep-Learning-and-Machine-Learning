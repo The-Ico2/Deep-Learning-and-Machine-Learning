{
 "cells": [
  {
   "cell_type": "markdown",
   "metadata": {},
   "source": [
    "# Sampling Variability\n",
    "This document will cover:\n",
    "- What random sampling means and why we need it\n",
    "- The variability in sampling and the problems it can cause"
   ]
  },
  {
   "cell_type": "markdown",
   "metadata": {},
   "source": [
    "### Sampling Variability: Definition\n",
    "Sampling Variability:\n",
    "Different samples from the same population can have different values of the same measurement\n",
    "\n",
    "Implication of sampling variability:\n",
    "A single measurement may be an unreliable estimate of a population parameter"
   ]
  },
  {
   "cell_type": "markdown",
   "metadata": {},
   "source": [
    "### Sources of sampling variability\n",
    "- __Natural Variation__:\n",
    "    - Often seen in biology (_Height, Weight_) and physics (_Earthquake Magnitude, number of stars per galaxy_)\n",
    "- __Measurement Noise__: \n",
    "    - The sensors are imperfect (_Electrical line noise, measuring nano-grams with a gram-precision scale_)\n",
    "- __Complex Systems__: \n",
    "    - Measuring some factors while ignoring others (_measuring height while ignoring age_)\n",
    "- __Stochasticity (randomness)__: \n",
    "    - The universe is a wild and unpredictable place (_photons hitting a camera lens_).\n",
    "\n",
    "\n"
   ]
  },
  {
   "cell_type": "markdown",
   "metadata": {},
   "source": [
    "#### What to do about sampling variability?\n",
    "Take many samples.\n",
    "\n",
    "Averaging together many samples will approximate the true population mean (_Law of Large Numbers_)"
   ]
  },
  {
   "cell_type": "markdown",
   "metadata": {},
   "source": [
    "# Why sampling variability is important in Deep Learning\n",
    "- Deep Learning models learn by examples\n",
    "- Non-random sampling can introduce systematic biases in Deep Learning Models\n",
    "-  Non-representative sample causes overfitting and limits generalizability"
   ]
  },
  {
   "cell_type": "code",
   "execution_count": 9,
   "metadata": {},
   "outputs": [
    {
     "name": "stdout",
     "output_type": "stream",
     "text": [
      "1.625\n",
      "0.0\n"
     ]
    },
    {
     "data": {
      "image/png": "[encoded data removed]",
      "text/plain": [
       "<Figure size 640x480 with 1 Axes>"
      ]
     },
     "metadata": {},
     "output_type": "display_data"
    }
   ],
   "source": [
    "import torch\n",
    "import numpy as np\n",
    "import matplotlib.pyplot as plt\n",
    "\n",
    "# create a list of number to compute the mean and variance of\n",
    "x = [1, 2, 4, 6, 5, 4, 0, -4, 5, -2, 6, 10, -9, 1, 3, -6]\n",
    "n = len(x)\n",
    "\n",
    "# compute the population mean\n",
    "popmean = np.mean(x)\n",
    "\n",
    "# compute a sample mean\n",
    "sample = np.random.choice(x, size=5, replace=True)\n",
    "sampmean = np.mean(sample)\n",
    "\n",
    "# Print them\n",
    "print(popmean)\n",
    "print(sampmean)\n",
    "\n",
    "# compute lost of sample means\n",
    "\n",
    "# number of experiments to run\n",
    "nExpers = 10000\n",
    "\n",
    "# run the experiment!\n",
    "sampleMeans = np.zeros(nExpers)\n",
    "for i in range(nExpers):\n",
    "    # setp 1: draw a sample\n",
    "    sample = np.random.choice(x, size=5, replace=True)\n",
    "\n",
    "    # step 2: copmute its mean\n",
    "    sampleMeans[i] = np.mean(sample)\n",
    "\n",
    "# show the result as a histogram\n",
    "plt.hist(sampleMeans, bins=40, density=True)\n",
    "plt.plot([popmean, popmean], [0, .3], 'm--')\n",
    "plt.ylabel('Count')\n",
    "plt.xlabel('Sample mean')\n",
    "plt.show()"
   ]
  }
 ],
 "metadata": {
  "kernelspec": {
   "display_name": "Python 3",
   "language": "python",
   "name": "python3"
  },
  "language_info": {
   "codemirror_mode": {
    "name": "ipython",
    "version": 3
   },
   "file_extension": ".py",
   "mimetype": "text/x-python",
   "name": "python",
   "nbconvert_exporter": "python",
   "pygments_lexer": "ipython3",
   "version": "0.0.0"
  }
 },
 "nbformat": 4,
 "nbformat_minor": 2
}
