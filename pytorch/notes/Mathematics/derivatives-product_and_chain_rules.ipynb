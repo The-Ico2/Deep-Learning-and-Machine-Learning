{
 "cells": [
  {
   "cell_type": "markdown",
   "metadata": {},
   "source": [
    "# Derivatives: Product and chain rules\n",
    "this document will cover:\n",
    "- The \"product rule\" of derivatives of multiple function\n",
    "- The \"chain rule\" of derivatives of embedded functions"
   ]
  },
  {
   "cell_type": "markdown",
   "metadata": {},
   "source": [
    "## What to Remember?\n",
    "Derivatives of \"interacting\" function (multiplication and embedding) is unintuitive\n",
    "\n",
    "In practice, libraries like pytorch, tensorflow, etc., have routines that estimate complicated derivtives ver efficiently and accurately"
   ]
  },
  {
   "cell_type": "markdown",
   "metadata": {},
   "source": [
    "### The product rule of derivatives\n",
    "(f+g)' = f' + g'\n",
    "(FxG)' != F'xG'"
   ]
  }
 ],
 "metadata": {
  "language_info": {
   "name": "python"
  }
 },
 "nbformat": 4,
 "nbformat_minor": 2
}
