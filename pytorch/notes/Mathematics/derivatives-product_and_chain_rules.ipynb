{
 "cells": [
  {
   "cell_type": "markdown",
   "metadata": {},
   "source": [
    "# Derivatives: Product and chain rules\n",
    "this document will cover:\n",
    "- The \"product rule\" of derivatives of multiple function\n",
    "- The \"chain rule\" of derivatives of embedded functions"
   ]
  },
  {
   "cell_type": "markdown",
   "metadata": {},
   "source": [
    "## What to Remember?\n",
    "Derivatives of \"interacting\" function (multiplication and embedding) is unintuitive\n",
    "\n",
    "In practice, libraries like pytorch, tensorflow, etc., have routines that estimate complicated derivtives ver efficiently and accurately"
   ]
  },
  {
   "cell_type": "markdown",
   "metadata": {},
   "source": [
    "### The product rule of derivatives\n",
    "- (F+G)' = F' + G'\n",
    "- (FxG)' != F'xG'\n",
    "- (FxG)' = F'xG' + F'xG'"
   ]
  },
  {
   "cell_type": "markdown",
   "metadata": {},
   "source": [
    "### The Chain Rule of Derivatives (Physical Notes: Page 1B)"
   ]
  },
  {
   "cell_type": "code",
   "execution_count": 4,
   "metadata": {},
   "outputs": [
    {
     "name": "stdout",
     "output_type": "stream",
     "text": [
      "The functions:\n"
     ]
    },
    {
     "data": {
      "text/latex": [
       "$\\displaystyle 2 x^{2}$"
      ],
      "text/plain": [
       "2*x**2"
      ]
     },
     "metadata": {},
     "output_type": "display_data"
    },
    {
     "data": {
      "text/latex": [
       "$\\displaystyle - 3 x^{4} + 4 x^{3}$"
      ],
      "text/plain": [
       "-3*x**4 + 4*x**3"
      ]
     },
     "metadata": {},
     "output_type": "display_data"
    },
    {
     "name": "stdout",
     "output_type": "stream",
     "text": [
      " \n",
      "Their Derivatives:\n"
     ]
    },
    {
     "data": {
      "text/latex": [
       "$\\displaystyle 4 x$"
      ],
      "text/plain": [
       "4*x"
      ]
     },
     "metadata": {},
     "output_type": "display_data"
    },
    {
     "data": {
      "text/latex": [
       "$\\displaystyle - 12 x^{3} + 12 x^{2}$"
      ],
      "text/plain": [
       "-12*x**3 + 12*x**2"
      ]
     },
     "metadata": {},
     "output_type": "display_data"
    },
    {
     "name": "stdout",
     "output_type": "stream",
     "text": [
      " \n",
      "Manual Product Rule:\n"
     ]
    },
    {
     "data": {
      "text/latex": [
       "$\\displaystyle 2 x^{2} \\left(- 12 x^{3} + 12 x^{2}\\right) + 4 x \\left(- 3 x^{4} + 4 x^{3}\\right)$"
      ],
      "text/plain": [
       "2*x**2*(-12*x**3 + 12*x**2) + 4*x*(-3*x**4 + 4*x**3)"
      ]
     },
     "metadata": {},
     "output_type": "display_data"
    },
    {
     "name": "stdout",
     "output_type": "stream",
     "text": [
      " \n",
      "Via Sympy:\n"
     ]
    },
    {
     "data": {
      "text/latex": [
       "$\\displaystyle 2 x^{2} \\left(- 12 x^{3} + 12 x^{2}\\right) + 4 x \\left(- 3 x^{4} + 4 x^{3}\\right)$"
      ],
      "text/plain": [
       "2*x**2*(-12*x**3 + 12*x**2) + 4*x*(-3*x**4 + 4*x**3)"
      ]
     },
     "metadata": {},
     "output_type": "display_data"
    },
    {
     "name": "stdout",
     "output_type": "stream",
     "text": [
      " \n"
     ]
    }
   ],
   "source": [
    "import numpy as np\n",
    "import sympy as sp\n",
    "\n",
    "# make the equation look nicer\n",
    "from IPython.display import display\n",
    "\n",
    "# create symoblic variables in sympy\n",
    "x = sp.symbols('x')\n",
    "\n",
    "# create two functions\n",
    "fx = 2*x**2\n",
    "gx = 4*x**3 - 3*x**4\n",
    "\n",
    "# copute their individual derivatives\n",
    "df = sp.diff(fx)\n",
    "dg = sp.diff(gx)\n",
    "\n",
    "# apply the product rule \"maually\"\n",
    "manual = df*gx + fx*dg\n",
    "thewrongway = df*dg\n",
    "\n",
    "# via sympy\n",
    "viasympy = sp.diff( fx*gx )\n",
    "\n",
    "# print everything\n",
    "print('The functions:')\n",
    "display(fx)\n",
    "display(gx)\n",
    "print(' ')\n",
    "\n",
    "print('Their Derivatives:')\n",
    "display(df)\n",
    "display(dg)\n",
    "print(' ')\n",
    "\n",
    "print('Manual Product Rule:')\n",
    "display(manual)\n",
    "print(' ')\n",
    "\n",
    "print('Via Sympy:')\n",
    "display(viasympy)\n",
    "print(' ')"
   ]
  },
  {
   "cell_type": "code",
   "execution_count": 6,
   "metadata": {},
   "outputs": [
    {
     "name": "stdout",
     "output_type": "stream",
     "text": [
      "The Functions:\n"
     ]
    },
    {
     "data": {
      "text/latex": [
       "$\\displaystyle \\left(4 x^{3} + x^{2}\\right)^{5}$"
      ],
      "text/plain": [
       "(4*x**3 + x**2)**5"
      ]
     },
     "metadata": {},
     "output_type": "display_data"
    },
    {
     "name": "stdout",
     "output_type": "stream",
     "text": [
      " \n",
      "Its Derivatives:\n"
     ]
    },
    {
     "data": {
      "text/latex": [
       "$\\displaystyle \\left(60 x^{2} + 10 x\\right) \\left(4 x^{3} + x^{2}\\right)^{4}$"
      ],
      "text/plain": [
       "(60*x**2 + 10*x)*(4*x**3 + x**2)**4"
      ]
     },
     "metadata": {},
     "output_type": "display_data"
    }
   ],
   "source": [
    "# ------------------------- Repeat With Chain Rule ------------------------- #\n",
    "fx = (x**2 + 4*x**3)**5\n",
    "\n",
    "print('The Functions:')\n",
    "display(fx)\n",
    "print(' ')\n",
    "\n",
    "print('Its Derivatives:')\n",
    "display(sp.diff(fx))"
   ]
  }
 ],
 "metadata": {
  "kernelspec": {
   "display_name": "Python 3",
   "language": "python",
   "name": "python3"
  },
  "language_info": {
   "codemirror_mode": {
    "name": "ipython",
    "version": 3
   },
   "file_extension": ".py",
   "mimetype": "text/x-python",
   "name": "python",
   "nbconvert_exporter": "python",
   "pygments_lexer": "ipython3",
   "version": "3.11.5"
  }
 },
 "nbformat": 4,
 "nbformat_minor": 2
}
