{
 "cells": [
  {
   "cell_type": "markdown",
   "metadata": {},
   "source": [
    "#### Import Numpy Libraries"
   ]
  },
  {
   "cell_type": "code",
   "execution_count": 102,
   "metadata": {},
   "outputs": [],
   "source": [
    "import numpy as np"
   ]
  },
  {
   "cell_type": "markdown",
   "metadata": {},
   "source": [
    "#### Basic Python List and Numpy Array"
   ]
  },
  {
   "cell_type": "code",
   "execution_count": 103,
   "metadata": {},
   "outputs": [
    {
     "name": "stdout",
     "output_type": "stream",
     "text": [
      "Python List: [1, 2, 3, 4, 5, 6, 7]\n",
      "Numpy Array: [1 2 3 4 5 6 7]\n"
     ]
    }
   ],
   "source": [
    "# Python List\n",
    "mylist = [1,2,3,4,5,6,7]\n",
    "print(f'Python List: {mylist}')\n",
    "\n",
    "# Numpy Array\n",
    "arr = np.array(mylist)\n",
    "print(f'Numpy Array: {arr}')"
   ]
  },
  {
   "cell_type": "markdown",
   "metadata": {},
   "source": [
    "#### Nested Python List and Numpy Array"
   ]
  },
  {
   "cell_type": "code",
   "execution_count": 104,
   "metadata": {},
   "outputs": [
    {
     "name": "stdout",
     "output_type": "stream",
     "text": [
      "Nested Python List: [[1, 2, 3], [4, 5, 6], [7, 8, 9]]\n",
      "Nested Numpy Array: [[1 2 3]\n",
      " [4 5 6]\n",
      " [7 8 9]]\n"
     ]
    }
   ],
   "source": [
    "# Nested Python List\n",
    "mylist = [[1,2,3], [4,5,6], [7,8,9]]\n",
    "print(f'Nested Python List: {mylist}')\n",
    "# Nested Numpy Array\n",
    "arr = np.array(mylist)\n",
    "print(f'Nested Numpy Array: {arr}')"
   ]
  },
  {
   "cell_type": "markdown",
   "metadata": {},
   "source": [
    "#### Numpy Arange"
   ]
  },
  {
   "cell_type": "code",
   "execution_count": 105,
   "metadata": {},
   "outputs": [
    {
     "name": "stdout",
     "output_type": "stream",
     "text": [
      "[0 1 2 3 4 5 6 7 8 9]\n",
      "[0 1 2 3 4 5 6 7 8 9]\n"
     ]
    }
   ],
   "source": [
    "start = 0 # Inclusive Start\n",
    "stop = 10 # Non-Inclusive Stop\n",
    "step = 1\n",
    "\n",
    "print(np.arange(start, stop, step))\n",
    "print(np.arange(0,10,1))"
   ]
  },
  {
   "cell_type": "markdown",
   "metadata": {},
   "source": [
    "Numpy Zeros Function"
   ]
  },
  {
   "cell_type": "code",
   "execution_count": 106,
   "metadata": {},
   "outputs": [
    {
     "name": "stdout",
     "output_type": "stream",
     "text": [
      "Zeros ex1: [0. 0. 0. 0. 0. 0. 0. 0. 0. 0.]\n",
      "Zeros ex2: [[0. 0. 0. 0. 0. 0. 0. 0. 0. 0.]\n",
      " [0. 0. 0. 0. 0. 0. 0. 0. 0. 0.]\n",
      " [0. 0. 0. 0. 0. 0. 0. 0. 0. 0.]\n",
      " [0. 0. 0. 0. 0. 0. 0. 0. 0. 0.]]\n"
     ]
    }
   ],
   "source": [
    "xinput = 10\n",
    "yinput = 4\n",
    "print(f'Zeros ex1: {np.zeros(xinput)}')\n",
    "print(f'Zeros ex2: {np.zeros((yinput, xinput))}')"
   ]
  },
  {
   "cell_type": "markdown",
   "metadata": {},
   "source": [
    "#### Numpy Ones Function"
   ]
  },
  {
   "cell_type": "code",
   "execution_count": 107,
   "metadata": {},
   "outputs": [
    {
     "name": "stdout",
     "output_type": "stream",
     "text": [
      "[1. 1.]\n",
      "\n",
      " [[1. 1.]\n",
      " [1. 1.]\n",
      " [1. 1.]\n",
      " [1. 1.]]\n",
      "\n",
      " [[4. 4.]\n",
      " [4. 4.]\n",
      " [4. 4.]\n",
      " [4. 4.]]\n",
      "\n",
      " [[20. 20.]\n",
      " [20. 20.]\n",
      " [20. 20.]\n",
      " [20. 20.]]\n",
      "\n",
      " [[-9. -9.]\n",
      " [-9. -9.]\n",
      " [-9. -9.]\n",
      " [-9. -9.]]\n",
      "\n",
      " [[0.5 0.5]\n",
      " [0.5 0.5]\n",
      " [0.5 0.5]\n",
      " [0.5 0.5]]\n"
     ]
    }
   ],
   "source": [
    "xinput = 2\n",
    "yinput = 4\n",
    "\n",
    "print(np.ones(xinput))                          # Normal 1d\n",
    "print(f'\\n {np.ones((yinput, xinput))}')        # Normal 2d\n",
    "print(f'\\n {np.ones((yinput, xinput))+3}')      # Addition\n",
    "print(f'\\n {np.ones((yinput, xinput))*20}')     # Multilplication\n",
    "print(f'\\n {np.ones((yinput, xinput))-10}')     # Subtraction\n",
    "print(f'\\n {np.ones((yinput, xinput))/2}')      # Division"
   ]
  },
  {
   "cell_type": "markdown",
   "metadata": {},
   "source": [
    "#### Numpy Linspace"
   ]
  },
  {
   "cell_type": "code",
   "execution_count": 108,
   "metadata": {},
   "outputs": [
    {
     "data": {
      "text/plain": [
       "array([ 0., 23., 46., 69., 92.])"
      ]
     },
     "execution_count": 108,
     "metadata": {},
     "output_type": "execute_result"
    }
   ],
   "source": [
    "start = 0   # Inclusive Start\n",
    "stop = 92   # Inclusive Stop\n",
    "nitems = 5\n",
    "np.linspace(start, stop, nitems)\n",
    "\n",
    "# Will return an array of 5 evenly spaced numbers between 0 and 92"
   ]
  },
  {
   "cell_type": "markdown",
   "metadata": {},
   "source": [
    "#### Numpy Identity Matrix"
   ]
  },
  {
   "cell_type": "code",
   "execution_count": 109,
   "metadata": {},
   "outputs": [
    {
     "data": {
      "text/plain": [
       "array([[1., 0., 0., 0., 0.],\n",
       "       [0., 1., 0., 0., 0.],\n",
       "       [0., 0., 1., 0., 0.],\n",
       "       [0., 0., 0., 1., 0.],\n",
       "       [0., 0., 0., 0., 1.]])"
      ]
     },
     "execution_count": 109,
     "metadata": {},
     "output_type": "execute_result"
    }
   ],
   "source": [
    "np.eye(5)\n",
    "# Will print a 5x5 array of numbers with ones going across the diagonal (top-left to bottom-right)"
   ]
  },
  {
   "cell_type": "markdown",
   "metadata": {},
   "source": [
    "#### Numpy Random Numbers"
   ]
  },
  {
   "cell_type": "code",
   "execution_count": 113,
   "metadata": {},
   "outputs": [
    {
     "data": {
      "text/plain": [
       "array([[ 7,  5],\n",
       "       [18, 18]])"
      ]
     },
     "execution_count": 113,
     "metadata": {},
     "output_type": "execute_result"
    }
   ],
   "source": [
    "np.random.rand(2, 2)    # random numbers between 0 and 1\n",
    "np.random.randn(2,2)    # random numbers between -1 and 1\n",
    "np.random.normal(22, 10, (2,2))     # (Mean, Standard Deviation, Size)\n",
    "np.random.randint(0, 20, (2, 2))    # (Min, Max, Size)"
   ]
  },
  {
   "cell_type": "markdown",
   "metadata": {},
   "source": [
    "##### Numpy Random Seed"
   ]
  },
  {
   "cell_type": "code",
   "execution_count": 119,
   "metadata": {},
   "outputs": [
    {
     "data": {
      "text/plain": [
       "array([0.37454012, 0.95071431, 0.73199394, 0.59865848])"
      ]
     },
     "execution_count": 119,
     "metadata": {},
     "output_type": "execute_result"
    }
   ],
   "source": [
    "np.random.seed(42)  # Seed 42 will always return the values shown\n",
    "np.random.rand(4)"
   ]
  },
  {
   "cell_type": "markdown",
   "metadata": {},
   "source": [
    "#### argmin(), argmax(), max(), min()"
   ]
  },
  {
   "cell_type": "code",
   "execution_count": 126,
   "metadata": {},
   "outputs": [
    {
     "name": "stdout",
     "output_type": "stream",
     "text": [
      "[ 99 103 151 130 149]\n",
      "151\n",
      "99\n",
      "2\n",
      "0\n"
     ]
    }
   ],
   "source": [
    "ranarr = np.random.randint(0, 200, 5)\n",
    "print(ranarr)           # Returns Values in ranarr\n",
    "print(ranarr.max())     # Returns Highest number in ranarr\n",
    "print(ranarr.min())     # Returns Lowest number in ranarr\n",
    "print(ranarr.argmax())  # Returns the index of the Highest number in ranarr\n",
    "print(ranarr.argmin())  # Returns the index of the lowest number in ranarr"
   ]
  },
  {
   "cell_type": "markdown",
   "metadata": {},
   "source": [
    "#### Numpy DType"
   ]
  },
  {
   "cell_type": "code",
   "execution_count": 128,
   "metadata": {},
   "outputs": [
    {
     "data": {
      "text/plain": [
       "dtype('int32')"
      ]
     },
     "execution_count": 128,
     "metadata": {},
     "output_type": "execute_result"
    },
    {
     "ename": "",
     "evalue": "",
     "output_type": "error",
     "traceback": [
      "\u001b[1;31mThe Kernel crashed while executing code in the current cell or a previous cell. \n",
      "\u001b[1;31mPlease review the code in the cell(s) to identify a possible cause of the failure. \n",
      "\u001b[1;31mClick <a href='https://aka.ms/vscodeJupyterKernelCrash'>here</a> for more info. \n",
      "\u001b[1;31mView Jupyter <a href='command:jupyter.viewOutput'>log</a> for further details."
     ]
    }
   ],
   "source": [
    "ranarr.dtype    # Returns the datatype of a variable"
   ]
  }
 ],
 "metadata": {
  "kernelspec": {
   "display_name": "base",
   "language": "python",
   "name": "python3"
  },
  "language_info": {
   "codemirror_mode": {
    "name": "ipython",
    "version": 3
   },
   "file_extension": ".py",
   "mimetype": "text/x-python",
   "name": "python",
   "nbconvert_exporter": "python",
   "pygments_lexer": "ipython3",
   "version": "3.11.5"
  }
 },
 "nbformat": 4,
 "nbformat_minor": 2
}
